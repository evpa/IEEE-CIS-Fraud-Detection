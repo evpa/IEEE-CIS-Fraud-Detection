{
 "cells": [
  {
   "cell_type": "markdown",
   "metadata": {},
   "source": [
    "best score:<br>\n",
    "lgb_newfeat_10fold-0.9486.csv<br>\n",
    "lgb_newfeatures2-0.9484.csv<br>\n",
    "groupkfold-0.9485.csv<br>\n",
    "catboost-0.9407.csv<br>"
   ]
  },
  {
   "cell_type": "code",
   "execution_count": 1,
   "metadata": {},
   "outputs": [],
   "source": [
    "import os\n",
    "import numpy as np \n",
    "import pandas as pd \n",
    "import matplotlib.pyplot as plt\n",
    "from scipy.stats.mstats import gmean\n",
    "import seaborn as sns\n",
    "%matplotlib inline\n",
    "from subprocess import check_output"
   ]
  },
  {
   "cell_type": "code",
   "execution_count": 2,
   "metadata": {},
   "outputs": [
    {
     "data": {
      "text/plain": [
       "['catboost-0.9407.csv',\n",
       " 'groupkfold-0.9485.csv',\n",
       " 'lgb_bayes_cats_10fold-0.9457.csv',\n",
       " 'lgb_featfix-0.9483.csv',\n",
       " 'lgb_featfix2-0.9479.csv',\n",
       " 'lgb_newfeatures2-0.9484.csv',\n",
       " 'lgb_newfeat_10fold-0.9486.csv',\n",
       " 'RLGB-0.9466.csv',\n",
       " 'simplelgb-0.9480.csv',\n",
       " 'sub_xgb-0.9442.csv']"
      ]
     },
     "execution_count": 2,
     "metadata": {},
     "output_type": "execute_result"
    }
   ],
   "source": [
    "sub_path = \"en\"\n",
    "all_files = os.listdir(sub_path)\n",
    "all_files"
   ]
  },
  {
   "cell_type": "code",
   "execution_count": 3,
   "metadata": {},
   "outputs": [],
   "source": [
    "sub_1 = pd.read_csv('en/lgb_newfeat_10fold-0.9486.csv')\n",
    "sub_2 = pd.read_csv('en/groupkfold-0.9485.csv')\n",
    "sub_3 = pd.read_csv('en/simplelgb-0.9480.csv')\n",
    "sub_4 = pd.read_csv('en/lgb_newfeatures2-0.9484.csv')"
   ]
  },
  {
   "cell_type": "code",
   "execution_count": 4,
   "metadata": {},
   "outputs": [],
   "source": [
    "score_1 = 0.9486\n",
    "score_2 = 0.9485\n",
    "score_3 = 0.9480\n",
    "score_4 = 0.9484"
   ]
  },
  {
   "cell_type": "code",
   "execution_count": 5,
   "metadata": {},
   "outputs": [],
   "source": [
    "sum_scores = score_1 + score_2 + score_3 + score_4"
   ]
  },
  {
   "cell_type": "code",
   "execution_count": 6,
   "metadata": {},
   "outputs": [],
   "source": [
    "weight_1 = score_1/sum_scores\n",
    "weight_2 = score_2/sum_scores\n",
    "weight_3 = score_3/sum_scores\n",
    "weight_4 = score_4/sum_scores"
   ]
  },
  {
   "cell_type": "code",
   "execution_count": 7,
   "metadata": {},
   "outputs": [],
   "source": [
    "sub_1['isFraud'] = weight_1*sub_1['isFraud'] + weight_2*sub_2['isFraud'] + weight_3*sub_3['isFraud'] + weight_4*sub_4['isFraud']"
   ]
  },
  {
   "cell_type": "code",
   "execution_count": 8,
   "metadata": {},
   "outputs": [],
   "source": [
    "sub_1.to_csv('en_results/per_blend7.csv', index=False)"
   ]
  },
  {
   "cell_type": "code",
   "execution_count": null,
   "metadata": {},
   "outputs": [],
   "source": []
  },
  {
   "cell_type": "code",
   "execution_count": 5,
   "metadata": {},
   "outputs": [],
   "source": [
    "# submission = pd.DataFrame()\n",
    "# submission['TransactionID'] = sub_1.TransactionID\n",
    "# submission['isFraud'] = (0.30*sub_1.isFraud) + (0.35*sub_2.isFraud) + (0.35*sub_3.isFraud)\n",
    "\n",
    "# submission.to_csv('en_res/per_blend2.csv', index=False)"
   ]
  },
  {
   "cell_type": "code",
   "execution_count": null,
   "metadata": {},
   "outputs": [],
   "source": []
  }
 ],
 "metadata": {
  "kernelspec": {
   "display_name": "Python 3",
   "language": "python",
   "name": "python3"
  },
  "language_info": {
   "codemirror_mode": {
    "name": "ipython",
    "version": 3
   },
   "file_extension": ".py",
   "mimetype": "text/x-python",
   "name": "python",
   "nbconvert_exporter": "python",
   "pygments_lexer": "ipython3",
   "version": "3.7.1"
  }
 },
 "nbformat": 4,
 "nbformat_minor": 2
}
