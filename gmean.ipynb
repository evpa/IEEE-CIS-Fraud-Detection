{
 "cells": [
  {
   "cell_type": "code",
   "execution_count": 1,
   "metadata": {},
   "outputs": [],
   "source": [
    "import warnings\n",
    "warnings.filterwarnings(\"ignore\")\n",
    "\n",
    "import numpy as np\n",
    "import pandas as pd\n",
    "import glob\n",
    "\n",
    "from scipy.stats import describe\n",
    "import seaborn as sns\n",
    "import matplotlib.pyplot as plt\n",
    "%matplotlib inline"
   ]
  },
  {
   "cell_type": "code",
   "execution_count": 2,
   "metadata": {},
   "outputs": [],
   "source": [
    "LABELS = [\"isFraud\"]\n",
    "all_files = glob.glob(\"lgbmodels/*.csv\")\n",
    "scores = np.zeros(len(all_files))\n",
    "for i in range(len(all_files)):\n",
    "    scores[i] = float('.'+all_files[i].split(\".\")[1])"
   ]
  },
  {
   "cell_type": "code",
   "execution_count": 3,
   "metadata": {},
   "outputs": [
    {
     "name": "stdout",
     "output_type": "stream",
     "text": [
      "0 0.95 lgbmodels\\lgb_fi400-0.9500.csv\n",
      "1 0.9493 lgbmodels\\LB=0.9493.csv\n",
      "2 0.9491 lgbmodels\\lgb_newfeats2-0.9491.csv\n",
      "3 0.9442 lgbmodels\\sub_xgb-0.9442.csv\n",
      "4 0.9407 lgbmodels\\catboost-0.9407.csv\n"
     ]
    }
   ],
   "source": [
    "top = scores.argsort()[::-1]\n",
    "for i, f in enumerate(top):\n",
    "    print(i,scores[f],all_files[f])"
   ]
  },
  {
   "cell_type": "code",
   "execution_count": 4,
   "metadata": {},
   "outputs": [],
   "source": [
    "outs = [pd.read_csv(all_files[f], index_col=0) for f in top]\n",
    "concat_sub = pd.concat(outs, axis=1)\n",
    "cols = list(map(lambda x: \"m\" + str(x), range(len(concat_sub.columns))))\n",
    "concat_sub.columns = cols"
   ]
  },
  {
   "cell_type": "code",
   "execution_count": 5,
   "metadata": {},
   "outputs": [
    {
     "data": {
      "image/png": "[encoded data removed]",
      "text/plain": [
       "<Figure size 504x504 with 2 Axes>"
      ]
     },
     "metadata": {
      "needs_background": "light"
     },
     "output_type": "display_data"
    }
   ],
   "source": [
    "# check correlation\n",
    "corr = concat_sub.corr()\n",
    "mask = np.zeros_like(corr, dtype=np.bool)\n",
    "mask[np.triu_indices_from(mask)] = True\n",
    "\n",
    "# Set up the matplotlib figure\n",
    "f, ax = plt.subplots(figsize=(len(cols)+2, len(cols)+2))\n",
    "\n",
    "# Draw the heatmap with the mask and correct aspect ratio\n",
    "_ = sns.heatmap(corr,mask=mask,cmap='prism',center=0, linewidths=1,\n",
    "                annot=True,fmt='.4f', cbar_kws={\"shrink\":.5})"
   ]
  },
  {
   "cell_type": "code",
   "execution_count": 6,
   "metadata": {},
   "outputs": [
    {
     "data": {
      "text/plain": [
       "m4    0.934217\n",
       "m1    0.961135\n",
       "m3    0.962402\n",
       "m0    0.970375\n",
       "m2    0.970571\n",
       "dtype: float64"
      ]
     },
     "execution_count": 6,
     "metadata": {},
     "output_type": "execute_result"
    }
   ],
   "source": [
    "mean_corr = corr.mean()\n",
    "mean_corr = mean_corr.sort_values(ascending=True)\n",
    "mean_corr = mean_corr[:5]\n",
    "mean_corr"
   ]
  },
  {
   "cell_type": "code",
   "execution_count": 7,
   "metadata": {},
   "outputs": [],
   "source": [
    "m_gmean = 0\n",
    "for n in mean_corr.index:\n",
    "    m_gmean += np.log(concat_sub[n])\n",
    "m_gmean = np.exp(m_gmean/len(mean_corr))"
   ]
  },
  {
   "cell_type": "code",
   "execution_count": 8,
   "metadata": {},
   "outputs": [],
   "source": [
    "# top_mean = 0\n",
    "# s = 0\n",
    "# for n in [0,1,3,4]:\n",
    "#     top_mean += concat_sub.iloc[:,n]*scores[top[n]]\n",
    "#     s += scores[top[n]]\n",
    "# top_mean /= s\n",
    "\n",
    "scoreP = [0.5, 0.2, 0.15, 0.15]\n",
    "top_mean = 0\n",
    "s = 0\n",
    "for i, n in enumerate([0,1,3,4]):\n",
    "    top_mean += concat_sub.iloc[:,n]*scoreP[i]\n",
    "    s += scores[top[n]]\n",
    "top_mean /= s"
   ]
  },
  {
   "cell_type": "code",
   "execution_count": 9,
   "metadata": {},
   "outputs": [],
   "source": [
    "m_gmean = np.exp(0.25*np.log(m_gmean) + 0.75*np.log(top_mean))"
   ]
  },
  {
   "cell_type": "code",
   "execution_count": 10,
   "metadata": {},
   "outputs": [
    {
     "data": {
      "text/plain": [
       "DescribeResult(nobs=506691, minmax=(5.158072780362884e-05, 0.3678733216508971), mean=0.009793982405802927, variance=0.0017531041165747482, skewness=7.083976216902361, kurtosis=51.723447117305945)"
      ]
     },
     "execution_count": 10,
     "metadata": {},
     "output_type": "execute_result"
    }
   ],
   "source": [
    "describe(m_gmean)"
   ]
  },
  {
   "cell_type": "code",
   "execution_count": 11,
   "metadata": {},
   "outputs": [],
   "source": [
    "concat_sub['isFraud'] = m_gmean\n",
    "concat_sub[['isFraud']].to_csv('en_results/stack_gmean40.csv')\n",
    "# concat_sub[['isFraud']].to_csv('en_results/best_cv_gmean.csv')"
   ]
  },
  {
   "cell_type": "code",
   "execution_count": null,
   "metadata": {},
   "outputs": [],
   "source": []
  }
 ],
 "metadata": {
  "kernelspec": {
   "display_name": "Python 3",
   "language": "python",
   "name": "python3"
  },
  "language_info": {
   "codemirror_mode": {
    "name": "ipython",
    "version": 3
   },
   "file_extension": ".py",
   "mimetype": "text/x-python",
   "name": "python",
   "nbconvert_exporter": "python",
   "pygments_lexer": "ipython3",
   "version": "3.7.1"
  }
 },
 "nbformat": 4,
 "nbformat_minor": 2
}
