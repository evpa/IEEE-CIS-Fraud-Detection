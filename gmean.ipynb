{
 "cells": [
  {
   "cell_type": "code",
   "execution_count": 1,
   "metadata": {},
   "outputs": [],
   "source": [
    "import warnings\n",
    "warnings.filterwarnings(\"ignore\")\n",
    "\n",
    "import numpy as np\n",
    "import pandas as pd\n",
    "import glob\n",
    "\n",
    "from scipy.stats import describe\n",
    "import seaborn as sns\n",
    "import matplotlib.pyplot as plt\n",
    "%matplotlib inline"
   ]
  },
  {
   "cell_type": "code",
   "execution_count": 2,
   "metadata": {},
   "outputs": [],
   "source": [
    "LABELS = [\"isFraud\"]\n",
    "all_files = glob.glob(\"lgbmodels/*.csv\")\n",
    "scores = np.zeros(len(all_files))\n",
    "for i in range(len(all_files)):\n",
    "    scores[i] = float('.'+all_files[i].split(\".\")[1])"
   ]
  },
  {
   "cell_type": "code",
   "execution_count": 3,
   "metadata": {},
   "outputs": [
    {
     "name": "stdout",
     "output_type": "stream",
     "text": [
      "0 0.9493 lgbmodels\\LB=0.9493.csv\n",
      "1 0.9492 lgbmodels\\lgb_group-0.9492.csv\n",
      "2 0.9488 lgbmodels\\lgb_491feats-0.9488.csv\n",
      "3 0.9442 lgbmodels\\Submission-.9442.csv\n",
      "4 0.9408 lgbmodels\\submission-.9408.csv\n"
     ]
    }
   ],
   "source": [
    "top = scores.argsort()[::-1]\n",
    "for i, f in enumerate(top):\n",
    "    print(i,scores[f],all_files[f])"
   ]
  },
  {
   "cell_type": "code",
   "execution_count": 4,
   "metadata": {},
   "outputs": [],
   "source": [
    "outs = [pd.read_csv(all_files[f], index_col=0) for f in top]\n",
    "concat_sub = pd.concat(outs, axis=1)\n",
    "cols = list(map(lambda x: \"m\" + str(x), range(len(concat_sub.columns))))\n",
    "concat_sub.columns = cols"
   ]
  },
  {
   "cell_type": "code",
   "execution_count": 5,
   "metadata": {},
   "outputs": [
    {
     "data": {
      "image/png": "[encoded data removed]",
      "text/plain": [
       "<Figure size 504x504 with 2 Axes>"
      ]
     },
     "metadata": {
      "needs_background": "light"
     },
     "output_type": "display_data"
    }
   ],
   "source": [
    "# check correlation\n",
    "corr = concat_sub.corr()\n",
    "mask = np.zeros_like(corr, dtype=np.bool)\n",
    "mask[np.triu_indices_from(mask)] = True\n",
    "\n",
    "# Set up the matplotlib figure\n",
    "f, ax = plt.subplots(figsize=(len(cols)+2, len(cols)+2))\n",
    "\n",
    "# Draw the heatmap with the mask and correct aspect ratio\n",
    "_ = sns.heatmap(corr,mask=mask,cmap='prism',center=0, linewidths=1,\n",
    "                annot=True,fmt='.4f', cbar_kws={\"shrink\":.5})"
   ]
  },
  {
   "cell_type": "code",
   "execution_count": 6,
   "metadata": {},
   "outputs": [
    {
     "data": {
      "text/plain": [
       "m4    0.934450\n",
       "m0    0.962036\n",
       "m3    0.962318\n",
       "m1    0.969822\n",
       "m2    0.970501\n",
       "dtype: float64"
      ]
     },
     "execution_count": 6,
     "metadata": {},
     "output_type": "execute_result"
    }
   ],
   "source": [
    "mean_corr = corr.mean()\n",
    "mean_corr = mean_corr.sort_values(ascending=True)\n",
    "mean_corr = mean_corr[:5]\n",
    "mean_corr"
   ]
  },
  {
   "cell_type": "code",
   "execution_count": 7,
   "metadata": {},
   "outputs": [],
   "source": [
    "m_gmean = 0\n",
    "for n in mean_corr.index:\n",
    "    m_gmean += np.log(concat_sub[n])\n",
    "m_gmean = np.exp(m_gmean/len(mean_corr))"
   ]
  },
  {
   "cell_type": "code",
   "execution_count": 8,
   "metadata": {},
   "outputs": [],
   "source": [
    "top_mean = 0\n",
    "s = 0\n",
    "for n in [0,2,3,4]:\n",
    "    top_mean += concat_sub.iloc[:,n]*scores[top[n]]\n",
    "    s += scores[top[n]]\n",
    "top_mean /= s"
   ]
  },
  {
   "cell_type": "code",
   "execution_count": 9,
   "metadata": {},
   "outputs": [],
   "source": [
    "m_gmean = np.exp(0.4*np.log(m_gmean) + 0.6*np.log(top_mean))"
   ]
  },
  {
   "cell_type": "code",
   "execution_count": 10,
   "metadata": {},
   "outputs": [
    {
     "data": {
      "text/plain": [
       "DescribeResult(nobs=506691, minmax=(0.00015745292485053351, 0.9978239924078632), mean=0.02733788781089986, variance=0.012699209520964282, skewness=7.064289611309327, kurtosis=51.67678895443187)"
      ]
     },
     "execution_count": 10,
     "metadata": {},
     "output_type": "execute_result"
    }
   ],
   "source": [
    "describe(m_gmean)"
   ]
  },
  {
   "cell_type": "code",
   "execution_count": 11,
   "metadata": {},
   "outputs": [],
   "source": [
    "concat_sub['isFraud'] = m_gmean\n",
    "# concat_sub[['isFraud']].to_csv('en_results/stack_gmean25.csv')\n",
    "concat_sub[['isFraud']].to_csv('en_results/best_cv_gmean.csv')"
   ]
  },
  {
   "cell_type": "code",
   "execution_count": null,
   "metadata": {},
   "outputs": [],
   "source": []
  }
 ],
 "metadata": {
  "kernelspec": {
   "display_name": "Python 3",
   "language": "python",
   "name": "python3"
  },
  "language_info": {
   "codemirror_mode": {
    "name": "ipython",
    "version": 3
   },
   "file_extension": ".py",
   "mimetype": "text/x-python",
   "name": "python",
   "nbconvert_exporter": "python",
   "pygments_lexer": "ipython3",
   "version": "3.7.1"
  }
 },
 "nbformat": 4,
 "nbformat_minor": 2
}
