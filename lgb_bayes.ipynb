{
 "cells": [
  {
   "cell_type": "code",
   "execution_count": 1,
   "metadata": {},
   "outputs": [],
   "source": [
    "import pandas as pd\n",
    "import numpy as np\n",
    "from tqdm import tqdm_notebook\n",
    "from sklearn.metrics import roc_auc_score\n",
    "import gc\n",
    "\n",
    "from sklearn.preprocessing import LabelEncoder\n",
    "\n",
    "import matplotlib.pyplot as plt\n",
    "import seaborn as sns\n",
    "sns.set()\n",
    "%matplotlib inline"
   ]
  },
  {
   "cell_type": "code",
   "execution_count": 2,
   "metadata": {},
   "outputs": [],
   "source": [
    "def reduce_mem_usage(df):\n",
    "    \"\"\" iterate through all the columns of a dataframe and modify the data type\n",
    "        to reduce memory usage.        \n",
    "    \"\"\"\n",
    "    start_mem = df.memory_usage().sum() / 1024**2\n",
    "    print('Memory usage of dataframe is {:.2f} MB'.format(start_mem))\n",
    "    \n",
    "    for col in df.columns:\n",
    "        col_type = df[col].dtype\n",
    "        \n",
    "        if col_type != object:\n",
    "            c_min = df[col].min()\n",
    "            c_max = df[col].max()\n",
    "            if str(col_type)[:3] == 'int':\n",
    "                if c_min > np.iinfo(np.int8).min and c_max < np.iinfo(np.int8).max:\n",
    "                    df[col] = df[col].astype(np.int8)\n",
    "                elif c_min > np.iinfo(np.int16).min and c_max < np.iinfo(np.int16).max:\n",
    "                    df[col] = df[col].astype(np.int16)\n",
    "                elif c_min > np.iinfo(np.int32).min and c_max < np.iinfo(np.int32).max:\n",
    "                    df[col] = df[col].astype(np.int32)\n",
    "                elif c_min > np.iinfo(np.int64).min and c_max < np.iinfo(np.int64).max:\n",
    "                    df[col] = df[col].astype(np.int64)  \n",
    "            else:\n",
    "                if c_min > np.finfo(np.float16).min and c_max < np.finfo(np.float16).max:\n",
    "                    df[col] = df[col].astype(np.float16)\n",
    "                elif c_min > np.finfo(np.float32).min and c_max < np.finfo(np.float32).max:\n",
    "                    df[col] = df[col].astype(np.float32)\n",
    "                else:\n",
    "                    df[col] = df[col].astype(np.float64)\n",
    "        else:\n",
    "            df[col] = df[col].astype('category')\n",
    "\n",
    "    end_mem = df.memory_usage().sum() / 1024**2\n",
    "    print('Memory usage after optimization is: {:.2f} MB'.format(end_mem))\n",
    "    print('Decreased by {:.1f}%'.format(100 * (start_mem - end_mem) / start_mem))\n",
    "    \n",
    "    return df"
   ]
  },
  {
   "cell_type": "code",
   "execution_count": 3,
   "metadata": {},
   "outputs": [
    {
     "name": "stdout",
     "output_type": "stream",
     "text": [
      "Loading data...\n",
      "\tSuccessfully loaded train_identity!\n",
      "\tSuccessfully loaded train_transaction!\n",
      "\tSuccessfully loaded test_identity!\n",
      "\tSuccessfully loaded test_transaction!\n",
      "\tSuccessfully loaded sample_submission!\n",
      "Data was successfully loaded!\n",
      "\n",
      "Wall time: 2min 23s\n"
     ]
    }
   ],
   "source": [
    "%%time\n",
    "\n",
    "print('Loading data...')\n",
    "\n",
    "train_identity = pd.read_csv('train_identity.csv', index_col='TransactionID')\n",
    "print('\\tSuccessfully loaded train_identity!')\n",
    "\n",
    "train_transaction = pd.read_csv('train_transaction.csv', index_col='TransactionID')\n",
    "print('\\tSuccessfully loaded train_transaction!')\n",
    "\n",
    "test_identity = pd.read_csv('test_identity.csv', index_col='TransactionID')\n",
    "print('\\tSuccessfully loaded test_identity!')\n",
    "\n",
    "test_transaction = pd.read_csv('test_transaction.csv', index_col='TransactionID')\n",
    "print('\\tSuccessfully loaded test_transaction!')\n",
    "\n",
    "sub = pd.read_csv('sample_submission.csv')\n",
    "print('\\tSuccessfully loaded sample_submission!')\n",
    "\n",
    "print('Data was successfully loaded!\\n')"
   ]
  },
  {
   "cell_type": "code",
   "execution_count": 4,
   "metadata": {},
   "outputs": [],
   "source": [
    "def id_split(dataframe):\n",
    "    dataframe['device_name'] = dataframe['DeviceInfo'].str.split('/', expand=True)[0]\n",
    "    dataframe['device_version'] = dataframe['DeviceInfo'].str.split('/', expand=True)[1]\n",
    "\n",
    "    dataframe['OS_id_30'] = dataframe['id_30'].str.split(' ', expand=True)[0]\n",
    "    dataframe['version_id_30'] = dataframe['id_30'].str.split(' ', expand=True)[1]\n",
    "\n",
    "    dataframe['browser_id_31'] = dataframe['id_31'].str.split(' ', expand=True)[0]\n",
    "    dataframe['version_id_31'] = dataframe['id_31'].str.split(' ', expand=True)[1]\n",
    "\n",
    "    dataframe['screen_width'] = dataframe['id_33'].str.split('x', expand=True)[0]\n",
    "    dataframe['screen_height'] = dataframe['id_33'].str.split('x', expand=True)[1]\n",
    "\n",
    "    dataframe['id_34'] = dataframe['id_34'].str.split(':', expand=True)[1]\n",
    "    dataframe['id_23'] = dataframe['id_23'].str.split(':', expand=True)[1]\n",
    "\n",
    "    dataframe.loc[dataframe['device_name'].str.contains('SM', na=False), 'device_name'] = 'Samsung'\n",
    "    dataframe.loc[dataframe['device_name'].str.contains('SAMSUNG', na=False), 'device_name'] = 'Samsung'\n",
    "    dataframe.loc[dataframe['device_name'].str.contains('GT-', na=False), 'device_name'] = 'Samsung'\n",
    "    dataframe.loc[dataframe['device_name'].str.contains('Moto G', na=False), 'device_name'] = 'Motorola'\n",
    "    dataframe.loc[dataframe['device_name'].str.contains('Moto', na=False), 'device_name'] = 'Motorola'\n",
    "    dataframe.loc[dataframe['device_name'].str.contains('moto', na=False), 'device_name'] = 'Motorola'\n",
    "    dataframe.loc[dataframe['device_name'].str.contains('LG-', na=False), 'device_name'] = 'LG'\n",
    "    dataframe.loc[dataframe['device_name'].str.contains('rv:', na=False), 'device_name'] = 'RV'\n",
    "    dataframe.loc[dataframe['device_name'].str.contains('HUAWEI', na=False), 'device_name'] = 'Huawei'\n",
    "    dataframe.loc[dataframe['device_name'].str.contains('ALE-', na=False), 'device_name'] = 'Huawei'\n",
    "    dataframe.loc[dataframe['device_name'].str.contains('-L', na=False), 'device_name'] = 'Huawei'\n",
    "    dataframe.loc[dataframe['device_name'].str.contains('Blade', na=False), 'device_name'] = 'ZTE'\n",
    "    dataframe.loc[dataframe['device_name'].str.contains('BLADE', na=False), 'device_name'] = 'ZTE'\n",
    "    dataframe.loc[dataframe['device_name'].str.contains('Linux', na=False), 'device_name'] = 'Linux'\n",
    "    dataframe.loc[dataframe['device_name'].str.contains('XT', na=False), 'device_name'] = 'Sony'\n",
    "    dataframe.loc[dataframe['device_name'].str.contains('HTC', na=False), 'device_name'] = 'HTC'\n",
    "    dataframe.loc[dataframe['device_name'].str.contains('ASUS', na=False), 'device_name'] = 'Asus'\n",
    "\n",
    "    dataframe.loc[dataframe.device_name.isin(dataframe.device_name.value_counts()[dataframe.device_name.value_counts() < 200].index), 'device_name'] = \"Others\"\n",
    "    dataframe['had_id'] = 1\n",
    "    gc.collect()\n",
    "    \n",
    "    return dataframe"
   ]
  },
  {
   "cell_type": "code",
   "execution_count": 5,
   "metadata": {},
   "outputs": [],
   "source": [
    "train_identity = id_split(train_identity)\n",
    "test_identity = id_split(test_identity)"
   ]
  },
  {
   "cell_type": "code",
   "execution_count": 6,
   "metadata": {},
   "outputs": [
    {
     "name": "stdout",
     "output_type": "stream",
     "text": [
      "Merging data...\n",
      "Data was successfully merged!\n",
      "\n",
      "Train dataset has 590540 rows and 442 columns.\n",
      "Test dataset has 506691 rows and 441 columns.\n",
      "\n"
     ]
    },
    {
     "data": {
      "text/plain": [
       "77"
      ]
     },
     "execution_count": 6,
     "metadata": {},
     "output_type": "execute_result"
    }
   ],
   "source": [
    "print('Merging data...')\n",
    "train = pd.merge(train_transaction, train_identity, on='TransactionID', how='left', left_index=True)\n",
    "test = pd.merge(test_transaction, test_identity, on='TransactionID', how='left', left_index=True)\n",
    "\n",
    "print('Data was successfully merged!\\n')\n",
    "\n",
    "del train_identity, train_transaction, test_identity, test_transaction\n",
    "\n",
    "print(f'Train dataset has {train.shape[0]} rows and {train.shape[1]} columns.')\n",
    "print(f'Test dataset has {test.shape[0]} rows and {test.shape[1]} columns.\\n')\n",
    "\n",
    "gc.collect()"
   ]
  },
  {
   "cell_type": "code",
   "execution_count": 7,
   "metadata": {},
   "outputs": [],
   "source": [
    "useful_features = ['TransactionAmt', 'ProductCD', 'card1', 'card2', 'card3', 'card4', 'card5', 'card6', 'addr1', 'addr2', 'dist1',\n",
    "                   'P_emaildomain', 'R_emaildomain', 'C1', 'C2', 'C4', 'C5', 'C6', 'C7', 'C8', 'C9', 'C10', 'C11', 'C12', 'C13',\n",
    "                   'C14', 'D1', 'D2', 'D3', 'D4', 'D5', 'D6', 'D8', 'D9', 'D10', 'D11', 'D12', 'D13', 'D14', 'D15', 'M2', 'M3',\n",
    "                   'M4', 'M5', 'M6', 'M7', 'M8', 'M9', 'V3', 'V4', 'V5', 'V6', 'V7', 'V8', 'V9', 'V10', 'V11', 'V12', 'V13', 'V17',\n",
    "                   'V19', 'V20', 'V29', 'V30', 'V33', 'V34', 'V35', 'V36', 'V37', 'V38', 'V40', 'V44', 'V45', 'V46', 'V47', 'V48',\n",
    "                   'V49', 'V51', 'V52', 'V53', 'V54', 'V56', 'V58', 'V59', 'V60', 'V61', 'V62', 'V63', 'V64', 'V69', 'V70', 'V71',\n",
    "                   'V72', 'V73', 'V74', 'V75', 'V76', 'V78', 'V80', 'V81', 'V82', 'V83', 'V84', 'V85', 'V87', 'V90', 'V91', 'V92',\n",
    "                   'V93', 'V94', 'V95', 'V96', 'V97', 'V99', 'V100', 'V126', 'V127', 'V128', 'V130', 'V131', 'V138', 'V139', 'V140',\n",
    "                   'V143', 'V145', 'V146', 'V147', 'V149', 'V150', 'V151', 'V152', 'V154', 'V156', 'V158', 'V159', 'V160', 'V161',\n",
    "                   'V162', 'V163', 'V164', 'V165', 'V166', 'V167', 'V169', 'V170', 'V171', 'V172', 'V173', 'V175', 'V176', 'V177',\n",
    "                   'V178', 'V180', 'V182', 'V184', 'V187', 'V188', 'V189', 'V195', 'V197', 'V200', 'V201', 'V202', 'V203', 'V204',\n",
    "                   'V205', 'V206', 'V207', 'V208', 'V209', 'V210', 'V212', 'V213', 'V214', 'V215', 'V216', 'V217', 'V219', 'V220',\n",
    "                   'V221', 'V222', 'V223', 'V224', 'V225', 'V226', 'V227', 'V228', 'V229', 'V231', 'V233', 'V234', 'V238', 'V239',\n",
    "                   'V242', 'V243', 'V244', 'V245', 'V246', 'V247', 'V249', 'V251', 'V253', 'V256', 'V257', 'V258', 'V259', 'V261',\n",
    "                   'V262', 'V263', 'V264', 'V265', 'V266', 'V267', 'V268', 'V270', 'V271', 'V272', 'V273', 'V274', 'V275', 'V276',\n",
    "                   'V277', 'V278', 'V279', 'V280', 'V282', 'V283', 'V285', 'V287', 'V288', 'V289', 'V291', 'V292', 'V294', 'V303',\n",
    "                   'V304', 'V306', 'V307', 'V308', 'V310', 'V312', 'V313', 'V314', 'V315', 'V317', 'V322', 'V323', 'V324', 'V326',\n",
    "                   'V329', 'V331', 'V332', 'V333', 'V335', 'V336', 'V338', 'id_01', 'id_02', 'id_03', 'id_05', 'id_06', 'id_09',\n",
    "                   'id_11', 'id_12', 'id_13', 'id_14', 'id_15', 'id_17', 'id_19', 'id_20', 'id_30', 'id_31', 'id_32', 'id_33',\n",
    "                   'id_36', 'id_37', 'id_38', 'DeviceType', 'DeviceInfo', 'device_name', 'device_version', 'OS_id_30', 'version_id_30',\n",
    "                   'browser_id_31', 'version_id_31', 'screen_width', 'screen_height', 'had_id']"
   ]
  },
  {
   "cell_type": "code",
   "execution_count": 8,
   "metadata": {},
   "outputs": [],
   "source": [
    "cols_to_drop = [col for col in train.columns if col not in useful_features]\n",
    "cols_to_drop.remove('isFraud')\n",
    "cols_to_drop.remove('TransactionDT')"
   ]
  },
  {
   "cell_type": "code",
   "execution_count": 9,
   "metadata": {},
   "outputs": [],
   "source": [
    "train = train.drop(cols_to_drop, axis=1)\n",
    "test = test.drop(cols_to_drop, axis=1)"
   ]
  },
  {
   "cell_type": "code",
   "execution_count": 10,
   "metadata": {},
   "outputs": [],
   "source": [
    "train['TransactionAmt_to_mean_card1'] = train['TransactionAmt'] / train.groupby(['card1'])['TransactionAmt'].transform('mean')\n",
    "train['TransactionAmt_to_mean_card4'] = train['TransactionAmt'] / train.groupby(['card4'])['TransactionAmt'].transform('mean')\n",
    "train['TransactionAmt_to_std_card1'] = train['TransactionAmt'] / train.groupby(['card1'])['TransactionAmt'].transform('std')\n",
    "train['TransactionAmt_to_std_card4'] = train['TransactionAmt'] / train.groupby(['card4'])['TransactionAmt'].transform('std')\n",
    "\n",
    "test['TransactionAmt_to_mean_card1'] = test['TransactionAmt'] / test.groupby(['card1'])['TransactionAmt'].transform('mean')\n",
    "test['TransactionAmt_to_mean_card4'] = test['TransactionAmt'] / test.groupby(['card4'])['TransactionAmt'].transform('mean')\n",
    "test['TransactionAmt_to_std_card1'] = test['TransactionAmt'] / test.groupby(['card1'])['TransactionAmt'].transform('std')\n",
    "test['TransactionAmt_to_std_card4'] = test['TransactionAmt'] / test.groupby(['card4'])['TransactionAmt'].transform('std')\n",
    "\n",
    "train['id_02_to_mean_card1'] = train['id_02'] / train.groupby(['card1'])['id_02'].transform('mean')\n",
    "train['id_02_to_mean_card4'] = train['id_02'] / train.groupby(['card4'])['id_02'].transform('mean')\n",
    "train['id_02_to_std_card1'] = train['id_02'] / train.groupby(['card1'])['id_02'].transform('std')\n",
    "train['id_02_to_std_card4'] = train['id_02'] / train.groupby(['card4'])['id_02'].transform('std')\n",
    "\n",
    "test['id_02_to_mean_card1'] = test['id_02'] / test.groupby(['card1'])['id_02'].transform('mean')\n",
    "test['id_02_to_mean_card4'] = test['id_02'] / test.groupby(['card4'])['id_02'].transform('mean')\n",
    "test['id_02_to_std_card1'] = test['id_02'] / test.groupby(['card1'])['id_02'].transform('std')\n",
    "test['id_02_to_std_card4'] = test['id_02'] / test.groupby(['card4'])['id_02'].transform('std')\n",
    "\n",
    "train['D15_to_mean_card1'] = train['D15'] / train.groupby(['card1'])['D15'].transform('mean')\n",
    "train['D15_to_mean_card4'] = train['D15'] / train.groupby(['card4'])['D15'].transform('mean')\n",
    "train['D15_to_std_card1'] = train['D15'] / train.groupby(['card1'])['D15'].transform('std')\n",
    "train['D15_to_std_card4'] = train['D15'] / train.groupby(['card4'])['D15'].transform('std')\n",
    "\n",
    "test['D15_to_mean_card1'] = test['D15'] / test.groupby(['card1'])['D15'].transform('mean')\n",
    "test['D15_to_mean_card4'] = test['D15'] / test.groupby(['card4'])['D15'].transform('mean')\n",
    "test['D15_to_std_card1'] = test['D15'] / test.groupby(['card1'])['D15'].transform('std')\n",
    "test['D15_to_std_card4'] = test['D15'] / test.groupby(['card4'])['D15'].transform('std')\n",
    "\n",
    "train['D15_to_mean_addr1'] = train['D15'] / train.groupby(['addr1'])['D15'].transform('mean')\n",
    "train['D15_to_mean_card4'] = train['D15'] / train.groupby(['card4'])['D15'].transform('mean')\n",
    "train['D15_to_std_addr1'] = train['D15'] / train.groupby(['addr1'])['D15'].transform('std')\n",
    "train['D15_to_std_card4'] = train['D15'] / train.groupby(['card4'])['D15'].transform('std')\n",
    "\n",
    "test['D15_to_mean_addr1'] = test['D15'] / test.groupby(['addr1'])['D15'].transform('mean')\n",
    "test['D15_to_mean_card4'] = test['D15'] / test.groupby(['card4'])['D15'].transform('mean')\n",
    "test['D15_to_std_addr1'] = test['D15'] / test.groupby(['addr1'])['D15'].transform('std')\n",
    "test['D15_to_std_card4'] = test['D15'] / test.groupby(['card4'])['D15'].transform('std')"
   ]
  },
  {
   "cell_type": "code",
   "execution_count": 11,
   "metadata": {},
   "outputs": [],
   "source": [
    "# New feature - log of transaction amount. ()\n",
    "train['TransactionAmt_Log'] = np.log(train['TransactionAmt'])\n",
    "test['TransactionAmt_Log'] = np.log(test['TransactionAmt'])\n",
    "\n",
    "# New feature - decimal part of the transaction amount.\n",
    "train['TransactionAmt_decimal'] = ((train['TransactionAmt'] - train['TransactionAmt'].astype(int)) * 1000).astype(int)\n",
    "test['TransactionAmt_decimal'] = ((test['TransactionAmt'] - test['TransactionAmt'].astype(int)) * 1000).astype(int)\n",
    "\n",
    "# New feature - day of week in which a transaction happened.\n",
    "train['Transaction_day_of_week'] = np.floor((train['TransactionDT'] / (3600 * 24) - 1) % 7)\n",
    "test['Transaction_day_of_week'] = np.floor((test['TransactionDT'] / (3600 * 24) - 1) % 7)\n",
    "\n",
    "# New feature - hour of the day in which a transaction happened.\n",
    "train['Transaction_hour'] = np.floor(train['TransactionDT'] / 3600) % 24\n",
    "test['Transaction_hour'] = np.floor(test['TransactionDT'] / 3600) % 24\n",
    "\n",
    "# Some arbitrary features interaction\n",
    "for feature in ['id_02__id_20', 'id_02__D8', 'D11__DeviceInfo', 'DeviceInfo__P_emaildomain', 'P_emaildomain__C2', \n",
    "                'card2__dist1', 'card1__card5', 'card2__id_20', 'card5__P_emaildomain', 'addr1__card1']:\n",
    "\n",
    "    f1, f2 = feature.split('__')\n",
    "    train[feature] = train[f1].astype(str) + '_' + train[f2].astype(str)\n",
    "    test[feature] = test[f1].astype(str) + '_' + test[f2].astype(str)\n",
    "\n",
    "    le = LabelEncoder()\n",
    "    le.fit(list(train[feature].astype(str).values) + list(test[feature].astype(str).values))\n",
    "    train[feature] = le.transform(list(train[feature].astype(str).values))\n",
    "    test[feature] = le.transform(list(test[feature].astype(str).values))\n",
    "\n",
    "# Encoding - count encoding for both train and test\n",
    "for feature in ['card1', 'card2', 'card3', 'card4', 'card5', 'card6', 'id_36']:\n",
    "    train[feature + '_count_full'] = train[feature].map(pd.concat([train[feature], test[feature]], ignore_index=True).value_counts(dropna=False))\n",
    "    test[feature + '_count_full'] = test[feature].map(pd.concat([train[feature], test[feature]], ignore_index=True).value_counts(dropna=False))\n",
    "\n",
    "# Encoding - count encoding separately for train and test\n",
    "for feature in ['id_01', 'id_31', 'id_33', 'id_36']:\n",
    "    train[feature + '_count_dist'] = train[feature].map(train[feature].value_counts(dropna=False))\n",
    "    test[feature + '_count_dist'] = test[feature].map(test[feature].value_counts(dropna=False))"
   ]
  },
  {
   "cell_type": "code",
   "execution_count": 12,
   "metadata": {},
   "outputs": [],
   "source": [
    "emails = {'gmail': 'google', 'att.net': 'att', 'twc.com': 'spectrum', 'scranton.edu': 'other', 'optonline.net': 'other', 'hotmail.co.uk': 'microsoft', 'comcast.net': 'other', 'yahoo.com.mx': 'yahoo', 'yahoo.fr': 'yahoo', 'yahoo.es': 'yahoo', 'charter.net': 'spectrum', 'live.com': 'microsoft', 'aim.com': 'aol', 'hotmail.de': 'microsoft', 'centurylink.net': 'centurylink', 'gmail.com': 'google', 'me.com': 'apple', 'earthlink.net': 'other', 'gmx.de': 'other', 'web.de': 'other', 'cfl.rr.com': 'other', 'hotmail.com': 'microsoft', 'protonmail.com': 'other', 'hotmail.fr': 'microsoft', 'windstream.net': 'other', 'outlook.es': 'microsoft', 'yahoo.co.jp': 'yahoo', 'yahoo.de': 'yahoo', 'servicios-ta.com': 'other', 'netzero.net': 'other', 'suddenlink.net': 'other', 'roadrunner.com': 'other', 'sc.rr.com': 'other', 'live.fr': 'microsoft', 'verizon.net': 'yahoo', 'msn.com': 'microsoft', 'q.com': 'centurylink', 'prodigy.net.mx': 'att', 'frontier.com': 'yahoo', 'anonymous.com': 'other', 'rocketmail.com': 'yahoo', 'sbcglobal.net': 'att', 'frontiernet.net': 'yahoo', 'ymail.com': 'yahoo', 'outlook.com': 'microsoft', 'mail.com': 'other', 'bellsouth.net': 'other', 'embarqmail.com': 'centurylink', 'cableone.net': 'other', 'hotmail.es': 'microsoft', 'mac.com': 'apple', 'yahoo.co.uk': 'yahoo', 'netzero.com': 'other', 'yahoo.com': 'yahoo', 'live.com.mx': 'microsoft', 'ptd.net': 'other', 'cox.net': 'other', 'aol.com': 'aol', 'juno.com': 'other', 'icloud.com': 'apple'}\n",
    "us_emails = ['gmail', 'net', 'edu']"
   ]
  },
  {
   "cell_type": "code",
   "execution_count": 13,
   "metadata": {},
   "outputs": [],
   "source": [
    "for c in ['P_emaildomain', 'R_emaildomain']:\n",
    "    train[c + '_bin'] = train[c].map(emails)\n",
    "    test[c + '_bin'] = test[c].map(emails)\n",
    "    \n",
    "    train[c + '_suffix'] = train[c].map(lambda x: str(x).split('.')[-1])\n",
    "    test[c + '_suffix'] = test[c].map(lambda x: str(x).split('.')[-1])\n",
    "    \n",
    "    train[c + '_suffix'] = train[c + '_suffix'].map(lambda x: x if str(x) not in us_emails else 'us')\n",
    "    test[c + '_suffix'] = test[c + '_suffix'].map(lambda x: x if str(x) not in us_emails else 'us')"
   ]
  },
  {
   "cell_type": "code",
   "execution_count": 14,
   "metadata": {},
   "outputs": [
    {
     "name": "stdout",
     "output_type": "stream",
     "text": [
      "Wall time: 47.4 s\n"
     ]
    }
   ],
   "source": [
    "%%time\n",
    "\n",
    "for col in train.columns:\n",
    "    if train[col].dtype == 'object':\n",
    "        le = LabelEncoder()\n",
    "        le.fit(list(train[col].astype(str).values) + list(test[col].astype(str).values))\n",
    "        train[col] = le.transform(list(train[col].astype(str).values))\n",
    "        test[col] = le.transform(list(test[col].astype(str).values))"
   ]
  },
  {
   "cell_type": "code",
   "execution_count": 15,
   "metadata": {},
   "outputs": [
    {
     "name": "stdout",
     "output_type": "stream",
     "text": [
      "Memory usage of dataframe is 1502.57 MB\n",
      "Memory usage after optimization is: 423.51 MB\n",
      "Decreased by 71.8%\n",
      "Memory usage of dataframe is 1285.36 MB\n",
      "Memory usage after optimization is: 373.53 MB\n",
      "Decreased by 70.9%\n",
      "Wall time: 4min 8s\n"
     ]
    }
   ],
   "source": [
    "%%time\n",
    "train = reduce_mem_usage(train)\n",
    "test = reduce_mem_usage(test)"
   ]
  },
  {
   "cell_type": "code",
   "execution_count": 16,
   "metadata": {},
   "outputs": [],
   "source": [
    "X = train.sort_values('TransactionDT').drop(['isFraud', 'TransactionDT'], axis=1)\n",
    "y = train.sort_values('TransactionDT')['isFraud']\n",
    "\n",
    "X_test = test.drop(['TransactionDT'], axis=1)\n",
    "\n",
    "# del train, test\n",
    "# gc.collect()"
   ]
  },
  {
   "cell_type": "code",
   "execution_count": 17,
   "metadata": {},
   "outputs": [],
   "source": [
    "from sklearn.model_selection import KFold\n",
    "import lightgbm as lgb\n",
    "import warnings\n",
    "import itertools\n",
    "from scipy import interp\n",
    "from bayes_opt import BayesianOptimization\n",
    "from datetime import datetime\n",
    "from sklearn.model_selection import train_test_split\n",
    "from sklearn.metrics import precision_score, recall_score, confusion_matrix, accuracy_score, roc_auc_score, f1_score, roc_curve, auc,precision_recall_curve\n",
    "\n",
    "warnings.filterwarnings(\"ignore\")"
   ]
  },
  {
   "cell_type": "code",
   "execution_count": 18,
   "metadata": {},
   "outputs": [],
   "source": [
    "def LGB_bayesian(\n",
    "    learning_rate,\n",
    "    num_leaves, \n",
    "    bagging_fraction,\n",
    "    feature_fraction,\n",
    "    min_child_weight, \n",
    "    min_data_in_leaf,\n",
    "    reg_alpha,\n",
    "    reg_lambda\n",
    "     ):\n",
    "    \n",
    "    # LightGBM expects next three parameters need to be integer. \n",
    "    num_leaves = int(num_leaves)\n",
    "    min_data_in_leaf = int(min_data_in_leaf)\n",
    "\n",
    "    assert type(num_leaves) == int\n",
    "    assert type(min_data_in_leaf) == int\n",
    "    \n",
    "    columns = X.columns\n",
    "    train_index = range(int(len(X)*0.7))\n",
    "    valid_index = range(int(len(X)*0.7), len(X))\n",
    "    \n",
    "    X_train, X_valid = X[columns].iloc[train_index], X[columns].iloc[valid_index]\n",
    "    y_train, y_valid = y.iloc[train_index], y.iloc[valid_index]\n",
    "    \n",
    "    dtrain = lgb.Dataset(X_train, label=y_train)\n",
    "    dvalid = lgb.Dataset(X_valid, label=y_valid)\n",
    "\n",
    "    param = {\n",
    "              'num_leaves': num_leaves, \n",
    "              'min_data_in_leaf': min_data_in_leaf,\n",
    "              'min_child_weight': min_child_weight,\n",
    "              'bagging_fraction' : bagging_fraction,\n",
    "              'feature_fraction' : feature_fraction,\n",
    "              'learning_rate' : learning_rate,\n",
    "              'max_depth': -1,\n",
    "              'reg_alpha': reg_alpha,\n",
    "              'reg_lambda': reg_lambda,\n",
    "              'objective': 'binary',\n",
    "              'save_binary': True,\n",
    "              'seed': 1337,\n",
    "              'feature_fraction_seed': 1337,\n",
    "              'bagging_seed': 1337,\n",
    "              'drop_seed': 1337,\n",
    "              'data_random_seed': 1337,\n",
    "              'boosting_type': 'gbdt',\n",
    "              'verbose': 1,\n",
    "              'is_unbalance': False,\n",
    "              'boost_from_average': True,\n",
    "              'metric':'auc'}    \n",
    "    \n",
    "    oof = np.zeros(len(X))\n",
    "\n",
    "    clf = lgb.train(param, dtrain,  num_boost_round=1000, valid_sets = [dtrain, dvalid], verbose_eval=200, early_stopping_rounds = 50)\n",
    "    \n",
    "    oof[valid_index]  = clf.predict(X_valid, num_iteration=clf.best_iteration)  \n",
    "    \n",
    "    score = roc_auc_score(y_valid, oof[valid_index])\n",
    "\n",
    "    return score"
   ]
  },
  {
   "cell_type": "code",
   "execution_count": 19,
   "metadata": {},
   "outputs": [],
   "source": [
    "bounds_LGB = {\n",
    "    'num_leaves': (31, 500), \n",
    "    'min_data_in_leaf': (20, 200),\n",
    "    'bagging_fraction' : (0.1, 0.9),\n",
    "    'feature_fraction' : (0.1, 0.9),\n",
    "    'learning_rate': (0.001, 0.1),\n",
    "    'min_child_weight': (0.00001, 0.1),   \n",
    "    'reg_alpha': (0, 1), \n",
    "    'reg_lambda': (0, 1),\n",
    "}"
   ]
  },
  {
   "cell_type": "code",
   "execution_count": 20,
   "metadata": {},
   "outputs": [],
   "source": [
    "LGB_BO = BayesianOptimization(LGB_bayesian, bounds_LGB, random_state=42)"
   ]
  },
  {
   "cell_type": "code",
   "execution_count": 21,
   "metadata": {},
   "outputs": [],
   "source": [
    "init_points = 10\n",
    "n_iter = 15"
   ]
  },
  {
   "cell_type": "code",
   "execution_count": 22,
   "metadata": {
    "scrolled": false
   },
   "outputs": [
    {
     "name": "stdout",
     "output_type": "stream",
     "text": [
      "--------------------------------------------------------------------------------\n",
      "|   iter    |  target   | baggin... | featur... | learni... | min_ch... | min_da... | num_le... | reg_alpha | reg_la... |\n",
      "-------------------------------------------------------------------------------------------------------------------------\n",
      "Training until validation scores don't improve for 50 rounds.\n",
      "[200]\ttraining's auc: 0.988596\tvalid_1's auc: 0.918026\n",
      "Early stopping, best iteration is:\n",
      "[169]\ttraining's auc: 0.985614\tvalid_1's auc: 0.919042\n",
      "|  1        |  0.919    |  0.3996   |  0.8606   |  0.07347  |  0.05987  |  48.08    |  104.2    |  0.05808  |  0.8662   |\n",
      "Training until validation scores don't improve for 50 rounds.\n",
      "[200]\ttraining's auc: 0.903053\tvalid_1's auc: 0.875594\n",
      "[400]\ttraining's auc: 0.916377\tvalid_1's auc: 0.883616\n",
      "[600]\ttraining's auc: 0.928228\tvalid_1's auc: 0.891481\n",
      "[800]\ttraining's auc: 0.940223\tvalid_1's auc: 0.900243\n",
      "[1000]\ttraining's auc: 0.949232\tvalid_1's auc: 0.907015\n",
      "Did not meet early stopping. Best iteration is:\n",
      "[1000]\ttraining's auc: 0.949232\tvalid_1's auc: 0.907015\n",
      "|  2        |  0.907    |  0.5809   |  0.6665   |  0.003038 |  0.09699  |  169.8    |  130.6    |  0.1818   |  0.1834   |\n",
      "Training until validation scores don't improve for 50 rounds.\n",
      "[200]\ttraining's auc: 0.975258\tvalid_1's auc: 0.920361\n",
      "[400]\ttraining's auc: 0.989614\tvalid_1's auc: 0.921234\n",
      "Early stopping, best iteration is:\n",
      "[354]\ttraining's auc: 0.987412\tvalid_1's auc: 0.921689\n",
      "|  3        |  0.9217   |  0.3434   |  0.5198   |  0.04376  |  0.02913  |  130.1    |  96.42    |  0.2921   |  0.3664   |\n",
      "Training until validation scores don't improve for 50 rounds.\n",
      "[200]\ttraining's auc: 0.935692\tvalid_1's auc: 0.902141\n",
      "[400]\ttraining's auc: 0.958402\tvalid_1's auc: 0.915854\n",
      "[600]\ttraining's auc: 0.968084\tvalid_1's auc: 0.919482\n",
      "[800]\ttraining's auc: 0.974971\tvalid_1's auc: 0.920549\n",
      "Early stopping, best iteration is:\n",
      "[813]\ttraining's auc: 0.975456\tvalid_1's auc: 0.920632\n",
      "|  4        |  0.9206   |  0.4649   |  0.7281   |  0.02077  |  0.05143  |  126.6    |  52.79    |  0.6075   |  0.1705   |\n",
      "Training until validation scores don't improve for 50 rounds.\n",
      "Early stopping, best iteration is:\n",
      "[99]\ttraining's auc: 0.971874\tvalid_1's auc: 0.917876\n",
      "|  5        |  0.9179   |  0.152    |  0.8591   |  0.0966   |  0.08084  |  74.83    |  76.81    |  0.6842   |  0.4402   |\n",
      "Training until validation scores don't improve for 50 rounds.\n",
      "[200]\ttraining's auc: 0.937554\tvalid_1's auc: 0.894048\n",
      "[400]\ttraining's auc: 0.956564\tvalid_1's auc: 0.905397\n",
      "[600]\ttraining's auc: 0.970882\tvalid_1's auc: 0.913581\n",
      "[800]\ttraining's auc: 0.981899\tvalid_1's auc: 0.921287\n",
      "[1000]\ttraining's auc: 0.988395\tvalid_1's auc: 0.925537\n",
      "Did not meet early stopping. Best iteration is:\n",
      "[1000]\ttraining's auc: 0.988395\tvalid_1's auc: 0.925537\n",
      "|  6        |  0.9255   |  0.1976   |  0.4961   |  0.004404 |  0.09093  |  66.58    |  341.7    |  0.3117   |  0.5201   |\n",
      "Training until validation scores don't improve for 50 rounds.\n",
      "Early stopping, best iteration is:\n",
      "[75]\ttraining's auc: 0.995434\tvalid_1's auc: 0.917203\n",
      "|  7        |  0.9172   |  0.5374   |  0.2479   |  0.09699  |  0.07752  |  189.1    |  450.7    |  0.5979   |  0.9219   |\n",
      "Training until validation scores don't improve for 50 rounds.\n",
      "[200]\ttraining's auc: 0.918134\tvalid_1's auc: 0.884005\n",
      "[400]\ttraining's auc: 0.93749\tvalid_1's auc: 0.897401\n",
      "[600]\ttraining's auc: 0.953478\tvalid_1's auc: 0.90852\n",
      "[800]\ttraining's auc: 0.964408\tvalid_1's auc: 0.915702\n",
      "[1000]\ttraining's auc: 0.972075\tvalid_1's auc: 0.920224\n",
      "Did not meet early stopping. Best iteration is:\n",
      "[1000]\ttraining's auc: 0.972075\tvalid_1's auc: 0.920224\n",
      "|  8        |  0.9202   |  0.1708   |  0.2568   |  0.005478 |  0.03254  |  89.96    |  158.3    |  0.8287   |  0.3568   |\n",
      "Training until validation scores don't improve for 50 rounds.\n",
      "[200]\ttraining's auc: 0.987164\tvalid_1's auc: 0.91835\n",
      "[400]\ttraining's auc: 0.998853\tvalid_1's auc: 0.927458\n",
      "Early stopping, best iteration is:\n",
      "[515]\ttraining's auc: 0.999735\tvalid_1's auc: 0.927815\n",
      "|  9        |  0.9278   |  0.3247   |  0.5342   |  0.01495  |  0.08022  |  33.42    |  493.8    |  0.7722   |  0.1987   |\n",
      "Training until validation scores don't improve for 50 rounds.\n",
      "[200]\ttraining's auc: 0.977035\tvalid_1's auc: 0.917783\n",
      "Early stopping, best iteration is:\n",
      "[169]\ttraining's auc: 0.973142\tvalid_1's auc: 0.918294\n",
      "|  10       |  0.9183   |  0.1044   |  0.7524   |  0.07098  |  0.0729   |  158.8    |  65.73    |  0.3585   |  0.1159   |\n",
      "Training until validation scores don't improve for 50 rounds.\n",
      "Early stopping, best iteration is:\n",
      "[139]\ttraining's auc: 0.999482\tvalid_1's auc: 0.92484\n",
      "|  11       |  0.9248   |  0.1092   |  0.5136   |  0.05637  |  0.08327  |  125.9    |  499.8    |  0.07177  |  0.3489   |\n",
      "Training until validation scores don't improve for 50 rounds.\n",
      "Early stopping, best iteration is:\n",
      "[97]\ttraining's auc: 0.998192\tvalid_1's auc: 0.923236\n",
      "|  12       |  0.9232   |  0.7142   |  0.559    |  0.09662  |  0.02538  |  20.05    |  309.6    |  0.01658  |  0.8745   |\n",
      "Training until validation scores don't improve for 50 rounds.\n",
      "Early stopping, best iteration is:\n",
      "[146]\ttraining's auc: 0.998702\tvalid_1's auc: 0.916079\n",
      "|  13       |  0.9161   |  0.5449   |  0.1034   |  0.09002  |  0.000873 |  61.51    |  437.1    |  0.07546  |  0.9675   |\n",
      "Training until validation scores don't improve for 50 rounds.\n",
      "[200]\ttraining's auc: 0.985256\tvalid_1's auc: 0.916909\n",
      "[400]\ttraining's auc: 0.998158\tvalid_1's auc: 0.926314\n",
      "Early stopping, best iteration is:\n",
      "[469]\ttraining's auc: 0.999148\tvalid_1's auc: 0.926681\n",
      "|  14       |  0.9267   |  0.6874   |  0.7162   |  0.01502  |  0.005866 |  199.6    |  499.4    |  0.03247  |  0.695    |\n",
      "Training until validation scores don't improve for 50 rounds.\n",
      "[200]\ttraining's auc: 0.992042\tvalid_1's auc: 0.920871\n",
      "[400]\ttraining's auc: 0.999474\tvalid_1's auc: 0.924003\n",
      "Early stopping, best iteration is:\n",
      "[388]\ttraining's auc: 0.999375\tvalid_1's auc: 0.924239\n",
      "|  15       |  0.9242   |  0.8502   |  0.1723   |  0.02463  |  0.07528  |  20.96    |  499.9    |  0.2543   |  0.7066   |\n",
      "Training until validation scores don't improve for 50 rounds.\n",
      "[200]\ttraining's auc: 0.997217\tvalid_1's auc: 0.925211\n",
      "Early stopping, best iteration is:\n",
      "[154]\ttraining's auc: 0.994617\tvalid_1's auc: 0.925576\n",
      "|  16       |  0.9256   |  0.1458   |  0.7649   |  0.05569  |  0.02072  |  21.6     |  217.7    |  0.9849   |  0.288    |\n",
      "Training until validation scores don't improve for 50 rounds.\n",
      "Early stopping, best iteration is:\n",
      "[95]\ttraining's auc: 0.997423\tvalid_1's auc: 0.919628\n",
      "|  17       |  0.9196   |  0.1261   |  0.8621   |  0.09263  |  0.06829  |  73.83    |  265.5    |  0.3542   |  0.06954  |\n",
      "Training until validation scores don't improve for 50 rounds.\n",
      "[200]\ttraining's auc: 1\tvalid_1's auc: 0.920389\n",
      "Early stopping, best iteration is:\n",
      "[206]\ttraining's auc: 1\tvalid_1's auc: 0.920719\n",
      "|  18       |  0.9207   |  0.1284   |  0.7131   |  0.09487  |  0.02065  |  54.36    |  499.8    |  0.9697   |  0.002126 |\n",
      "Training until validation scores don't improve for 50 rounds.\n",
      "Early stopping, best iteration is:\n",
      "[145]\ttraining's auc: 0.999674\tvalid_1's auc: 0.923526\n",
      "|  19       |  0.9235   |  0.1155   |  0.6641   |  0.06879  |  0.06735  |  20.9     |  373.5    |  0.8791   |  0.1192   |\n",
      "Training until validation scores don't improve for 50 rounds.\n",
      "Early stopping, best iteration is:\n",
      "[118]\ttraining's auc: 0.99993\tvalid_1's auc: 0.922179\n",
      "|  20       |  0.9222   |  0.2881   |  0.845    |  0.08673  |  0.009004 |  173.6    |  499.9    |  0.7673   |  0.2734   |\n",
      "Training until validation scores don't improve for 50 rounds.\n",
      "[200]\ttraining's auc: 0.998329\tvalid_1's auc: 0.919891\n",
      "Early stopping, best iteration is:\n",
      "[181]\ttraining's auc: 0.997534\tvalid_1's auc: 0.920134\n",
      "|  21       |  0.9201   |  0.196    |  0.1359   |  0.06986  |  0.09092  |  200.0    |  328.0    |  0.1679   |  0.1956   |\n",
      "Training until validation scores don't improve for 50 rounds.\n",
      "Early stopping, best iteration is:\n",
      "[94]\ttraining's auc: 0.996808\tvalid_1's auc: 0.921924\n",
      "|  22       |  0.9219   |  0.1321   |  0.3722   |  0.08079  |  0.0861   |  136.1    |  349.1    |  0.03077  |  0.08008  |\n",
      "Training until validation scores don't improve for 50 rounds.\n",
      "[200]\ttraining's auc: 0.929821\tvalid_1's auc: 0.889789\n",
      "[400]\ttraining's auc: 0.955328\tvalid_1's auc: 0.906797\n",
      "[600]\ttraining's auc: 0.970742\tvalid_1's auc: 0.916695\n",
      "[800]\ttraining's auc: 0.980247\tvalid_1's auc: 0.921341\n",
      "[1000]\ttraining's auc: 0.986073\tvalid_1's auc: 0.923936\n",
      "Did not meet early stopping. Best iteration is:\n",
      "[1000]\ttraining's auc: 0.986073\tvalid_1's auc: 0.923936\n",
      "|  23       |  0.9239   |  0.1474   |  0.1672   |  0.007804 |  0.004957 |  23.44    |  166.8    |  0.1896   |  0.05331  |\n",
      "Training until validation scores don't improve for 50 rounds.\n",
      "[200]\ttraining's auc: 0.949983\tvalid_1's auc: 0.908826\n",
      "[400]\ttraining's auc: 0.968122\tvalid_1's auc: 0.914601\n",
      "Early stopping, best iteration is:\n",
      "[471]\ttraining's auc: 0.972312\tvalid_1's auc: 0.915494\n",
      "|  24       |  0.9155   |  0.5413   |  0.7463   |  0.05729  |  0.06568  |  199.8    |  32.31    |  0.33     |  0.2964   |\n",
      "Training until validation scores don't improve for 50 rounds.\n",
      "[200]\ttraining's auc: 0.983671\tvalid_1's auc: 0.914247\n",
      "[400]\ttraining's auc: 0.998542\tvalid_1's auc: 0.92621\n",
      "[600]\ttraining's auc: 0.999873\tvalid_1's auc: 0.927401\n",
      "Early stopping, best iteration is:\n",
      "[557]\ttraining's auc: 0.999799\tvalid_1's auc: 0.927482\n",
      "|  25       |  0.9275   |  0.2431   |  0.7602   |  0.01245  |  0.02253  |  20.55    |  474.8    |  0.1411   |  0.2275   |\n",
      "=========================================================================================================================\n",
      "Wall time: 1h 8min 59s\n"
     ]
    }
   ],
   "source": [
    "%%time\n",
    "\n",
    "print('-' * 80)\n",
    "\n",
    "with warnings.catch_warnings():\n",
    "    warnings.filterwarnings('ignore')\n",
    "    LGB_BO.maximize(init_points=init_points, n_iter=n_iter, acq='ucb', xi=0.0, alpha=1e-6)"
   ]
  },
  {
   "cell_type": "code",
   "execution_count": 23,
   "metadata": {},
   "outputs": [
    {
     "data": {
      "text/plain": [
       "0.9278154737493844"
      ]
     },
     "execution_count": 23,
     "metadata": {},
     "output_type": "execute_result"
    }
   ],
   "source": [
    "LGB_BO.max['target']"
   ]
  },
  {
   "cell_type": "code",
   "execution_count": 24,
   "metadata": {},
   "outputs": [
    {
     "data": {
      "text/plain": [
       "{'bagging_fraction': 0.32474760774990463,\n",
       " 'feature_fraction': 0.5341568665265988,\n",
       " 'learning_rate': 0.014951498272501501,\n",
       " 'min_child_weight': 0.08022167610559643,\n",
       " 'min_data_in_leaf': 33.41911586235875,\n",
       " 'num_leaves': 493.84997326564263,\n",
       " 'reg_alpha': 0.7722447692966574,\n",
       " 'reg_lambda': 0.1987156815341724}"
      ]
     },
     "execution_count": 24,
     "metadata": {},
     "output_type": "execute_result"
    }
   ],
   "source": [
    "LGB_BO.max['params']"
   ]
  },
  {
   "cell_type": "code",
   "execution_count": 25,
   "metadata": {},
   "outputs": [],
   "source": [
    "params = {'num_leaves': int(LGB_BO.max['params']['num_leaves']),\n",
    "          'min_child_weight': LGB_BO.max['params']['min_child_weight'],\n",
    "          'feature_fraction': LGB_BO.max['params']['feature_fraction'],\n",
    "          'bagging_fraction': LGB_BO.max['params']['bagging_fraction'],\n",
    "          'min_data_in_leaf': int(LGB_BO.max['params']['min_data_in_leaf']),\n",
    "          'objective': 'binary',\n",
    "          'max_depth': -1,\n",
    "          'learning_rate': LGB_BO.max['params']['learning_rate'],\n",
    "          \"boosting_type\": \"gbdt\",\n",
    "          \"bagging_seed\": 11,\n",
    "          \"metric\": 'auc',\n",
    "          \"verbosity\": -1,\n",
    "          'reg_alpha': LGB_BO.max['params']['reg_alpha'],\n",
    "          'reg_lambda': LGB_BO.max['params']['reg_lambda'],\n",
    "          'random_state': 47,\n",
    "          'device' : 'cpu',\n",
    "         }"
   ]
  },
  {
   "cell_type": "code",
   "execution_count": 26,
   "metadata": {},
   "outputs": [
    {
     "name": "stdout",
     "output_type": "stream",
     "text": [
      "Training until validation scores don't improve for 400 rounds.\n",
      "[200]\ttraining's auc: 0.984502\tvalid_1's auc: 0.904962\n",
      "[400]\ttraining's auc: 0.997668\tvalid_1's auc: 0.916409\n",
      "[600]\ttraining's auc: 0.999665\tvalid_1's auc: 0.919697\n",
      "[800]\ttraining's auc: 0.999948\tvalid_1's auc: 0.920164\n",
      "[1000]\ttraining's auc: 0.999991\tvalid_1's auc: 0.920805\n",
      "[1200]\ttraining's auc: 0.999998\tvalid_1's auc: 0.921434\n",
      "[1400]\ttraining's auc: 1\tvalid_1's auc: 0.92151\n",
      "[1600]\ttraining's auc: 1\tvalid_1's auc: 0.921264\n",
      "Early stopping, best iteration is:\n",
      "[1362]\ttraining's auc: 1\tvalid_1's auc: 0.921567\n",
      "Fold 1 | AUC: 0.9215665040855597\n",
      "Training until validation scores don't improve for 400 rounds.\n",
      "[200]\ttraining's auc: 0.984905\tvalid_1's auc: 0.92373\n",
      "[400]\ttraining's auc: 0.998357\tvalid_1's auc: 0.934098\n",
      "[600]\ttraining's auc: 0.99981\tvalid_1's auc: 0.936341\n",
      "[800]\ttraining's auc: 0.999975\tvalid_1's auc: 0.936338\n",
      "[1000]\ttraining's auc: 0.999997\tvalid_1's auc: 0.936185\n",
      "Early stopping, best iteration is:\n",
      "[686]\ttraining's auc: 0.999918\tvalid_1's auc: 0.9366\n",
      "Fold 2 | AUC: 0.9366008363705272\n",
      "Training until validation scores don't improve for 400 rounds.\n",
      "[200]\ttraining's auc: 0.985689\tvalid_1's auc: 0.926603\n",
      "[400]\ttraining's auc: 0.998288\tvalid_1's auc: 0.934875\n",
      "[600]\ttraining's auc: 0.999795\tvalid_1's auc: 0.935796\n",
      "[800]\ttraining's auc: 0.999974\tvalid_1's auc: 0.935918\n",
      "[1000]\ttraining's auc: 0.999997\tvalid_1's auc: 0.93561\n",
      "Early stopping, best iteration is:\n",
      "[761]\ttraining's auc: 0.999961\tvalid_1's auc: 0.936109\n",
      "Fold 3 | AUC: 0.9361085767700673\n",
      "Training until validation scores don't improve for 400 rounds.\n",
      "[200]\ttraining's auc: 0.985016\tvalid_1's auc: 0.943142\n",
      "[400]\ttraining's auc: 0.998253\tvalid_1's auc: 0.951713\n",
      "[600]\ttraining's auc: 0.999812\tvalid_1's auc: 0.952802\n",
      "[800]\ttraining's auc: 0.999976\tvalid_1's auc: 0.952569\n",
      "[1000]\ttraining's auc: 0.999998\tvalid_1's auc: 0.95229\n",
      "Early stopping, best iteration is:\n",
      "[609]\ttraining's auc: 0.999828\tvalid_1's auc: 0.952829\n",
      "Fold 4 | AUC: 0.9528287890012835\n",
      "Training until validation scores don't improve for 400 rounds.\n",
      "[200]\ttraining's auc: 0.98469\tvalid_1's auc: 0.919072\n",
      "[400]\ttraining's auc: 0.99814\tvalid_1's auc: 0.92857\n",
      "[600]\ttraining's auc: 0.999786\tvalid_1's auc: 0.92968\n",
      "[800]\ttraining's auc: 0.999972\tvalid_1's auc: 0.929555\n",
      "Early stopping, best iteration is:\n",
      "[593]\ttraining's auc: 0.999775\tvalid_1's auc: 0.929781\n",
      "Fold 5 | AUC: 0.9297805277083274\n",
      "\n",
      "Mean AUC = 0.9353770467871529\n",
      "Out of folds AUC = 0.9356159160407744\n",
      "Wall time: 56min 46s\n"
     ]
    }
   ],
   "source": [
    "%%time\n",
    "\n",
    "NFOLDS = 5\n",
    "folds = KFold(n_splits=NFOLDS)\n",
    "\n",
    "columns = X.columns\n",
    "splits = folds.split(X, y)\n",
    "y_preds = np.zeros(X_test.shape[0])\n",
    "y_oof = np.zeros(X.shape[0])\n",
    "score = 0\n",
    "\n",
    "feature_importances = pd.DataFrame()\n",
    "feature_importances['feature'] = columns\n",
    "  \n",
    "for fold_n, (train_index, valid_index) in enumerate(splits):\n",
    "    X_train, X_valid = X[columns].iloc[train_index], X[columns].iloc[valid_index]\n",
    "    y_train, y_valid = y.iloc[train_index], y.iloc[valid_index]\n",
    "    \n",
    "    dtrain = lgb.Dataset(X_train, label=y_train)\n",
    "    dvalid = lgb.Dataset(X_valid, label=y_valid)\n",
    "\n",
    "    clf = lgb.train(params, dtrain, 10000, valid_sets = [dtrain, dvalid], verbose_eval=200, early_stopping_rounds=400)\n",
    "    \n",
    "    feature_importances[f'fold_{fold_n + 1}'] = clf.feature_importance()\n",
    "    \n",
    "    y_pred_valid = clf.predict(X_valid)\n",
    "    y_oof[valid_index] = y_pred_valid\n",
    "    print(f\"Fold {fold_n + 1} | AUC: {roc_auc_score(y_valid, y_pred_valid)}\")\n",
    "    \n",
    "    score += roc_auc_score(y_valid, y_pred_valid) / NFOLDS\n",
    "    y_preds += clf.predict(X_test) / NFOLDS\n",
    "    \n",
    "    del X_train, X_valid, y_train, y_valid\n",
    "    gc.collect()\n",
    "    \n",
    "print(f\"\\nMean AUC = {score}\")\n",
    "print(f\"Out of folds AUC = {roc_auc_score(y, y_oof)}\")"
   ]
  },
  {
   "cell_type": "code",
   "execution_count": 27,
   "metadata": {},
   "outputs": [],
   "source": [
    "sub['isFraud'] = y_preds\n",
    "sub.to_csv(\"lgb_bayes_fix.csv\", index=False)"
   ]
  },
  {
   "cell_type": "code",
   "execution_count": 28,
   "metadata": {},
   "outputs": [
    {
     "data": {
      "image/png": "[encoded data removed]",
      "text/plain": [
       "<Figure size 1152x1152 with 1 Axes>"
      ]
     },
     "metadata": {
      "needs_background": "light"
     },
     "output_type": "display_data"
    }
   ],
   "source": [
    "feature_importances['average'] = feature_importances[[f'fold_{fold_n + 1}' for fold_n in range(folds.n_splits)]].mean(axis=1)\n",
    "feature_importances.to_csv('feature_importances.csv')\n",
    "\n",
    "plt.figure(figsize=(16, 16))\n",
    "sns.barplot(data=feature_importances.sort_values(by='average', ascending=False).head(50), x='average', y='feature');\n",
    "plt.title('50 TOP feature importance over {} folds average'.format(folds.n_splits));"
   ]
  },
  {
   "cell_type": "code",
   "execution_count": null,
   "metadata": {},
   "outputs": [],
   "source": []
  }
 ],
 "metadata": {
  "kernelspec": {
   "display_name": "Python 3",
   "language": "python",
   "name": "python3"
  },
  "language_info": {
   "codemirror_mode": {
    "name": "ipython",
    "version": 3
   },
   "file_extension": ".py",
   "mimetype": "text/x-python",
   "name": "python",
   "nbconvert_exporter": "python",
   "pygments_lexer": "ipython3",
   "version": "3.7.1"
  }
 },
 "nbformat": 4,
 "nbformat_minor": 2
}
