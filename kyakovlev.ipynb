{
 "cells": [
  {
   "cell_type": "code",
   "execution_count": 1,
   "metadata": {},
   "outputs": [],
   "source": [
    "import numpy as np\n",
    "import pandas as pd\n",
    "import os, sys, gc, warnings, random, datetime\n",
    "\n",
    "from sklearn import metrics\n",
    "from sklearn.model_selection import train_test_split, KFold, GroupKFold\n",
    "from sklearn.preprocessing import LabelEncoder\n",
    "\n",
    "from tqdm import tqdm\n",
    "\n",
    "import math\n",
    "warnings.filterwarnings('ignore')"
   ]
  },
  {
   "cell_type": "code",
   "execution_count": 2,
   "metadata": {},
   "outputs": [],
   "source": [
    "def seed_everything(seed=0):\n",
    "    random.seed(seed)\n",
    "    os.environ['PYTHONHASHSEED'] = str(seed)\n",
    "    np.random.seed(seed)\n",
    "    \n",
    "## Memory Reducer\n",
    "# :df pandas dataframe to reduce size             # type: pd.DataFrame()\n",
    "# :verbose                                        # type: bool\n",
    "def reduce_mem_usage(df, verbose=True):\n",
    "    numerics = ['int16', 'int32', 'int64', 'float16', 'float32', 'float64']\n",
    "    start_mem = df.memory_usage().sum() / 1024**2    \n",
    "    for col in df.columns:\n",
    "        col_type = df[col].dtypes\n",
    "        if col_type in numerics:\n",
    "            c_min = df[col].min()\n",
    "            c_max = df[col].max()\n",
    "            if str(col_type)[:3] == 'int':\n",
    "                if c_min > np.iinfo(np.int8).min and c_max < np.iinfo(np.int8).max:\n",
    "                    df[col] = df[col].astype(np.int8)\n",
    "                elif c_min > np.iinfo(np.int16).min and c_max < np.iinfo(np.int16).max:\n",
    "                    df[col] = df[col].astype(np.int16)\n",
    "                elif c_min > np.iinfo(np.int32).min and c_max < np.iinfo(np.int32).max:\n",
    "                    df[col] = df[col].astype(np.int32)\n",
    "                elif c_min > np.iinfo(np.int64).min and c_max < np.iinfo(np.int64).max:\n",
    "                    df[col] = df[col].astype(np.int64)  \n",
    "            else:\n",
    "                if c_min > np.finfo(np.float16).min and c_max < np.finfo(np.float16).max:\n",
    "                    df[col] = df[col].astype(np.float16)\n",
    "                elif c_min > np.finfo(np.float32).min and c_max < np.finfo(np.float32).max:\n",
    "                    df[col] = df[col].astype(np.float32)\n",
    "                else:\n",
    "                    df[col] = df[col].astype(np.float64)    \n",
    "    end_mem = df.memory_usage().sum() / 1024**2\n",
    "    if verbose: print('Mem. usage decreased to {:5.2f} Mb ({:.1f}% reduction)'.format(end_mem, 100 * (start_mem - end_mem) / start_mem))\n",
    "    return df"
   ]
  },
  {
   "cell_type": "code",
   "execution_count": 3,
   "metadata": {},
   "outputs": [],
   "source": [
    "import lightgbm as lgb\n",
    "\n",
    "def make_predictions(tr_df, tt_df, features_columns, target, lgb_params, NFOLDS=2):\n",
    "    \n",
    "    folds = GroupKFold(n_splits=NFOLDS)\n",
    "\n",
    "    X,y = tr_df[features_columns], tr_df[target]    \n",
    "    P,P_y = tt_df[features_columns], tt_df[target]  \n",
    "    split_groups = tr_df['DT_M']\n",
    "\n",
    "    tt_df = tt_df[['TransactionID',target]]    \n",
    "    predictions = np.zeros(len(tt_df))\n",
    "    oof = np.zeros(len(tr_df))\n",
    "    \n",
    "    for fold_, (trn_idx, val_idx) in enumerate(folds.split(X, y, groups=split_groups)):\n",
    "        print('Fold:',fold_)\n",
    "        tr_x, tr_y = X.iloc[trn_idx,:], y[trn_idx]\n",
    "        vl_x, vl_y = X.iloc[val_idx,:], y[val_idx]\n",
    "            \n",
    "        print(len(tr_x),len(vl_x))\n",
    "        tr_data = lgb.Dataset(tr_x, label=tr_y)\n",
    "        vl_data = lgb.Dataset(vl_x, label=vl_y)  \n",
    "\n",
    "        estimator = lgb.train(\n",
    "            lgb_params,\n",
    "            tr_data,\n",
    "            valid_sets = [tr_data, vl_data],\n",
    "            verbose_eval = 200,\n",
    "        )   \n",
    "        \n",
    "        pp_p = estimator.predict(P)\n",
    "        predictions += pp_p/NFOLDS\n",
    "        \n",
    "        oof_preds = estimator.predict(vl_x)\n",
    "        oof[val_idx] = (oof_preds - oof_preds.min())/(oof_preds.max() - oof_preds.min())\n",
    "\n",
    "        if LOCAL_TEST:\n",
    "            feature_imp = pd.DataFrame(sorted(zip(estimator.feature_importance(),X.columns)), columns=['Value','Feature'])\n",
    "            print(feature_imp)\n",
    "        \n",
    "        del tr_x, tr_y, vl_x, vl_y, tr_data, vl_data\n",
    "        gc.collect()\n",
    "        \n",
    "    tt_df['prediction'] = predictions\n",
    "    print('OOF AUC:', metrics.roc_auc_score(y, oof))\n",
    "    if LOCAL_TEST:\n",
    "        print('Holdout AUC:', metrics.roc_auc_score(tt_df[TARGET], tt_df['prediction']))\n",
    "    \n",
    "    return tt_df"
   ]
  },
  {
   "cell_type": "code",
   "execution_count": 4,
   "metadata": {},
   "outputs": [],
   "source": [
    "SEED = 42\n",
    "seed_everything(SEED)\n",
    "LOCAL_TEST = True\n",
    "TARGET = 'isFraud'\n",
    "START_DATE = datetime.datetime.strptime('2017-11-30', '%Y-%m-%d')"
   ]
  },
  {
   "cell_type": "code",
   "execution_count": 5,
   "metadata": {},
   "outputs": [],
   "source": [
    "lgb_params = {'num_leaves': 493,\n",
    "          'min_child_weight': 0.08022167610559643,\n",
    "          'feature_fraction': 0.5341568665265988,\n",
    "          'bagging_fraction': 0.32474760774990463,\n",
    "          'min_data_in_leaf': 33,\n",
    "          'objective': 'binary',\n",
    "          'max_depth': -1,\n",
    "          'learning_rate': 0.014951498272501501,\n",
    "          \"boosting_type\": \"gbdt\",\n",
    "          \"bagging_seed\": 11,\n",
    "          \"metric\": 'auc',\n",
    "          \"verbosity\": -1,\n",
    "          'reg_alpha': 0.7722447692966574,\n",
    "          'reg_lambda': 0.1987156815341724,\n",
    "          'random_state': 47,\n",
    "          'device' : 'cpu',\n",
    "          'seed': SEED,\n",
    "          'early_stopping_rounds':100, \n",
    "         }"
   ]
  },
  {
   "cell_type": "code",
   "execution_count": 6,
   "metadata": {},
   "outputs": [],
   "source": [
    "train_df = pd.read_pickle('train_df.pkl')\n",
    "test_df = pd.read_pickle('test_df.pkl')"
   ]
  },
  {
   "cell_type": "code",
   "execution_count": 8,
   "metadata": {},
   "outputs": [
    {
     "name": "stdout",
     "output_type": "stream",
     "text": [
      "Shape control: (417559, 791) (89326, 791)\n"
     ]
    }
   ],
   "source": [
    "remove_features = pd.read_pickle('remove_features.pkl')\n",
    "remove_features = list(remove_features['features_to_remove'].values)\n",
    "print('Shape control:', train_df.shape, test_df.shape)"
   ]
  },
  {
   "cell_type": "code",
   "execution_count": 9,
   "metadata": {},
   "outputs": [
    {
     "name": "stdout",
     "output_type": "stream",
     "text": [
      "Mem. usage decreased to 885.75 Mb (42.5% reduction)\n",
      "Mem. usage decreased to 191.62 Mb (41.8% reduction)\n"
     ]
    }
   ],
   "source": [
    "features_columns = [col for col in list(train_df) if col not in remove_features]\n",
    "\n",
    "train_df = reduce_mem_usage(train_df)\n",
    "test_df  = reduce_mem_usage(test_df)"
   ]
  },
  {
   "cell_type": "code",
   "execution_count": 10,
   "metadata": {},
   "outputs": [],
   "source": [
    "lgb_params['n_estimators'] = 10000"
   ]
  },
  {
   "cell_type": "code",
   "execution_count": 15,
   "metadata": {},
   "outputs": [
    {
     "name": "stdout",
     "output_type": "stream",
     "text": [
      "Fold: 0\n",
      "280238 137321\n",
      "Training until validation scores don't improve for 100 rounds.\n",
      "[200]\ttraining's auc: 0.99833\tvalid_1's auc: 0.899636\n",
      "[400]\ttraining's auc: 0.999988\tvalid_1's auc: 0.907668\n",
      "[600]\ttraining's auc: 1\tvalid_1's auc: 0.911324\n",
      "[800]\ttraining's auc: 1\tvalid_1's auc: 0.912437\n",
      "Early stopping, best iteration is:\n",
      "[726]\ttraining's auc: 1\tvalid_1's auc: 0.912345\n",
      "     Value                  Feature\n",
      "0        0                D9_not_na\n",
      "1        0                       V1\n",
      "2        0                     V107\n",
      "3        0                     V113\n",
      "4        0                     V117\n",
      "..     ...                      ...\n",
      "767   2454        product_type_DT_W\n",
      "768   2454  uid4_TransactionAmt_std\n",
      "769   2500                    card1\n",
      "770   2599       D15_DT_D_std_score\n",
      "771   2793        product_type_DT_D\n",
      "\n",
      "[772 rows x 2 columns]\n",
      "Fold: 1\n",
      "315927 101632\n",
      "Training until validation scores don't improve for 100 rounds.\n",
      "[200]\ttraining's auc: 0.99855\tvalid_1's auc: 0.926163\n",
      "[400]\ttraining's auc: 0.999993\tvalid_1's auc: 0.931161\n",
      "[600]\ttraining's auc: 1\tvalid_1's auc: 0.931286\n",
      "Early stopping, best iteration is:\n",
      "[549]\ttraining's auc: 1\tvalid_1's auc: 0.931468\n",
      "     Value                  Feature\n",
      "0        0          D8_not_same_day\n",
      "1        0                D9_not_na\n",
      "2        0                       M1\n",
      "3        0                       V1\n",
      "4        0                     V107\n",
      "..     ...                      ...\n",
      "767   1804        product_type_DT_W\n",
      "768   1812       D15_DT_D_std_score\n",
      "769   1858  uid4_TransactionAmt_std\n",
      "770   2081                    card1\n",
      "771   2420        product_type_DT_D\n",
      "\n",
      "[772 rows x 2 columns]\n",
      "Fold: 2\n",
      "324974 92585\n",
      "Training until validation scores don't improve for 100 rounds.\n",
      "[200]\ttraining's auc: 0.998105\tvalid_1's auc: 0.938203\n",
      "[400]\ttraining's auc: 0.999989\tvalid_1's auc: 0.944377\n",
      "[600]\ttraining's auc: 1\tvalid_1's auc: 0.94556\n",
      "[800]\ttraining's auc: 1\tvalid_1's auc: 0.946143\n",
      "Early stopping, best iteration is:\n",
      "[718]\ttraining's auc: 1\tvalid_1's auc: 0.946029\n",
      "     Value                  Feature\n",
      "0        0                D9_not_na\n",
      "1        0                       V1\n",
      "2        0                     V107\n",
      "3        0                     V113\n",
      "4        0                     V117\n",
      "..     ...                      ...\n",
      "767   2345  uid4_TransactionAmt_std\n",
      "768   2477        product_type_DT_W\n",
      "769   2567       D15_DT_D_std_score\n",
      "770   2665                    card1\n",
      "771   3013        product_type_DT_D\n",
      "\n",
      "[772 rows x 2 columns]\n",
      "Fold: 3\n",
      "331538 86021\n",
      "Training until validation scores don't improve for 100 rounds.\n",
      "[200]\ttraining's auc: 0.99786\tvalid_1's auc: 0.945495\n",
      "[400]\ttraining's auc: 0.999985\tvalid_1's auc: 0.948843\n",
      "[600]\ttraining's auc: 1\tvalid_1's auc: 0.949754\n",
      "[800]\ttraining's auc: 1\tvalid_1's auc: 0.949823\n",
      "Early stopping, best iteration is:\n",
      "[745]\ttraining's auc: 1\tvalid_1's auc: 0.95002\n",
      "     Value             Feature\n",
      "0        0           D9_not_na\n",
      "1        0                  M1\n",
      "2        0                  V1\n",
      "3        0                V107\n",
      "4        0                V117\n",
      "..     ...                 ...\n",
      "767   2443   D8_DT_D_std_score\n",
      "768   2512   product_type_DT_W\n",
      "769   2583  D15_DT_D_std_score\n",
      "770   2623               card1\n",
      "771   3333   product_type_DT_D\n",
      "\n",
      "[772 rows x 2 columns]\n",
      "OOF AUC: 0.9339778136629951\n",
      "Holdout AUC: 0.9249815155965245\n"
     ]
    }
   ],
   "source": [
    "test_predictions = make_predictions(train_df, test_df, features_columns, TARGET, lgb_params, NFOLDS=4)"
   ]
  },
  {
   "cell_type": "code",
   "execution_count": 17,
   "metadata": {},
   "outputs": [],
   "source": [
    "test_predictions['isFraud'] = test_predictions['prediction']\n",
    "test_predictions[['TransactionID','isFraud']].to_csv('results/ks_feat_my_param.csv', index=False)"
   ]
  },
  {
   "cell_type": "code",
   "execution_count": null,
   "metadata": {},
   "outputs": [],
   "source": []
  }
 ],
 "metadata": {
  "kernelspec": {
   "display_name": "Python 3",
   "language": "python",
   "name": "python3"
  },
  "language_info": {
   "codemirror_mode": {
    "name": "ipython",
    "version": 3
   },
   "file_extension": ".py",
   "mimetype": "text/x-python",
   "name": "python",
   "nbconvert_exporter": "python",
   "pygments_lexer": "ipython3",
   "version": "3.7.1"
  }
 },
 "nbformat": 4,
 "nbformat_minor": 2
}
