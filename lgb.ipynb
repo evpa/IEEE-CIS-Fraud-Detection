{
 "cells": [
  {
   "cell_type": "code",
   "execution_count": 1,
   "metadata": {},
   "outputs": [],
   "source": [
    "import pandas as pd\n",
    "import numpy as np\n",
    "from tqdm import tqdm_notebook\n",
    "from sklearn.metrics import roc_auc_score\n",
    "import gc\n",
    "import os\n",
    "import sys\n",
    "import datetime\n",
    "import math\n",
    "\n",
    "from sklearn.preprocessing import LabelEncoder\n",
    "\n",
    "import matplotlib.pyplot as plt\n",
    "import seaborn as sns\n",
    "sns.set()\n",
    "%matplotlib inline"
   ]
  },
  {
   "cell_type": "code",
   "execution_count": 2,
   "metadata": {},
   "outputs": [],
   "source": [
    "def reduce_mem_usage(df):\n",
    "    \"\"\" iterate through all the columns of a dataframe and modify the data type\n",
    "        to reduce memory usage.        \n",
    "    \"\"\"\n",
    "    start_mem = df.memory_usage().sum() / 1024**2\n",
    "    print('Memory usage of dataframe is {:.2f} MB'.format(start_mem))\n",
    "    \n",
    "    for col in df.columns:\n",
    "        col_type = df[col].dtype\n",
    "        \n",
    "        if col_type != object:\n",
    "            c_min = df[col].min()\n",
    "            c_max = df[col].max()\n",
    "            if str(col_type)[:3] == 'int':\n",
    "                if c_min > np.iinfo(np.int8).min and c_max < np.iinfo(np.int8).max:\n",
    "                    df[col] = df[col].astype(np.int8)\n",
    "                elif c_min > np.iinfo(np.int16).min and c_max < np.iinfo(np.int16).max:\n",
    "                    df[col] = df[col].astype(np.int16)\n",
    "                elif c_min > np.iinfo(np.int32).min and c_max < np.iinfo(np.int32).max:\n",
    "                    df[col] = df[col].astype(np.int32)\n",
    "                elif c_min > np.iinfo(np.int64).min and c_max < np.iinfo(np.int64).max:\n",
    "                    df[col] = df[col].astype(np.int64)  \n",
    "            else:\n",
    "                if c_min > np.finfo(np.float16).min and c_max < np.finfo(np.float16).max:\n",
    "                    df[col] = df[col].astype(np.float16)\n",
    "                elif c_min > np.finfo(np.float32).min and c_max < np.finfo(np.float32).max:\n",
    "                    df[col] = df[col].astype(np.float32)\n",
    "                else:\n",
    "                    df[col] = df[col].astype(np.float64)\n",
    "        else:\n",
    "            df[col] = df[col].astype('category')\n",
    "\n",
    "    end_mem = df.memory_usage().sum() / 1024**2\n",
    "    print('Memory usage after optimization is: {:.2f} MB'.format(end_mem))\n",
    "    print('Decreased by {:.1f}%'.format(100 * (start_mem - end_mem) / start_mem))\n",
    "    \n",
    "    return df"
   ]
  },
  {
   "cell_type": "code",
   "execution_count": 3,
   "metadata": {},
   "outputs": [
    {
     "name": "stdout",
     "output_type": "stream",
     "text": [
      "Loading data...\n",
      "\tSuccessfully loaded train_identity!\n",
      "\tSuccessfully loaded train_transaction!\n",
      "\tSuccessfully loaded test_identity!\n",
      "\tSuccessfully loaded test_transaction!\n",
      "\tSuccessfully loaded sample_submission!\n",
      "Data was successfully loaded!\n",
      "\n",
      "Wall time: 40.9 s\n"
     ]
    }
   ],
   "source": [
    "%%time\n",
    "\n",
    "print('Loading data...')\n",
    "\n",
    "train_identity = pd.read_csv('train_identity.csv', index_col='TransactionID')\n",
    "print('\\tSuccessfully loaded train_identity!')\n",
    "\n",
    "train_transaction = pd.read_csv('train_transaction.csv', index_col='TransactionID')\n",
    "print('\\tSuccessfully loaded train_transaction!')\n",
    "\n",
    "test_identity = pd.read_csv('test_identity.csv', index_col='TransactionID')\n",
    "print('\\tSuccessfully loaded test_identity!')\n",
    "\n",
    "test_transaction = pd.read_csv('test_transaction.csv', index_col='TransactionID')\n",
    "print('\\tSuccessfully loaded test_transaction!')\n",
    "\n",
    "sub = pd.read_csv('sample_submission.csv')\n",
    "print('\\tSuccessfully loaded sample_submission!')\n",
    "\n",
    "print('Data was successfully loaded!\\n')"
   ]
  },
  {
   "cell_type": "code",
   "execution_count": 4,
   "metadata": {},
   "outputs": [],
   "source": [
    "def id_split(dataframe):\n",
    "    dataframe['device_name'] = dataframe['DeviceInfo'].str.split('/', expand=True)[0]\n",
    "    dataframe['device_version'] = dataframe['DeviceInfo'].str.split('/', expand=True)[1]\n",
    "    \n",
    "    dataframe['OS_id_30'] = dataframe['id_30'].str.split(' ', expand=True)[0]\n",
    "    dataframe['version_id_30'] = dataframe['id_30'].astype(str).apply(lambda x: x.split(' ')[-1])\n",
    "\n",
    "    dataframe['browser_id_31'] = dataframe['id_31'].str.split(' ', expand=True)[0]\n",
    "    dataframe['version_id_31'] = dataframe['id_31'].astype(str).apply(lambda x: x.split(' ')[-1])\n",
    "\n",
    "    dataframe['screen_width'] = dataframe['id_33'].str.split('x', expand=True)[0]\n",
    "    dataframe['screen_height'] = dataframe['id_33'].str.split('x', expand=True)[1]\n",
    "\n",
    "    dataframe['id_34'] = dataframe['id_34'].str.split(':', expand=True)[1]\n",
    "    dataframe['id_23'] = dataframe['id_23'].str.split(':', expand=True)[1]\n",
    "\n",
    "    dataframe.loc[dataframe['device_name'].str.contains('SM', na=False), 'device_name'] = 'Samsung'\n",
    "    dataframe.loc[dataframe['device_name'].str.contains('SAMSUNG', na=False), 'device_name'] = 'Samsung'\n",
    "    dataframe.loc[dataframe['device_name'].str.contains('GT-', na=False), 'device_name'] = 'Samsung'\n",
    "    dataframe.loc[dataframe['device_name'].str.contains('Moto G', na=False), 'device_name'] = 'Motorola'\n",
    "    dataframe.loc[dataframe['device_name'].str.contains('Moto', na=False), 'device_name'] = 'Motorola'\n",
    "    dataframe.loc[dataframe['device_name'].str.contains('moto', na=False), 'device_name'] = 'Motorola'\n",
    "    dataframe.loc[dataframe['device_name'].str.contains('LG-', na=False), 'device_name'] = 'LG'\n",
    "    dataframe.loc[dataframe['device_name'].str.contains('rv:', na=False), 'device_name'] = 'RV'\n",
    "    dataframe.loc[dataframe['device_name'].str.contains('HUAWEI', na=False), 'device_name'] = 'Huawei'\n",
    "    dataframe.loc[dataframe['device_name'].str.contains('ALE-', na=False), 'device_name'] = 'Huawei'\n",
    "    dataframe.loc[dataframe['device_name'].str.contains('-L', na=False), 'device_name'] = 'Huawei'\n",
    "    dataframe.loc[dataframe['device_name'].str.contains('Blade', na=False), 'device_name'] = 'ZTE'\n",
    "    dataframe.loc[dataframe['device_name'].str.contains('BLADE', na=False), 'device_name'] = 'ZTE'\n",
    "    dataframe.loc[dataframe['device_name'].str.contains('Linux', na=False), 'device_name'] = 'Linux'\n",
    "    dataframe.loc[dataframe['device_name'].str.contains('XT', na=False), 'device_name'] = 'Sony'\n",
    "    dataframe.loc[dataframe['device_name'].str.contains('HTC', na=False), 'device_name'] = 'HTC'\n",
    "    dataframe.loc[dataframe['device_name'].str.contains('ASUS', na=False), 'device_name'] = 'Asus'\n",
    "\n",
    "    dataframe.loc[dataframe.device_name.isin(dataframe.device_name.value_counts()[dataframe.device_name.value_counts() < 200].index), 'device_name'] = \"Others\"\n",
    "    dataframe['had_id'] = 1\n",
    "    gc.collect()\n",
    "    \n",
    "    return dataframe"
   ]
  },
  {
   "cell_type": "code",
   "execution_count": 5,
   "metadata": {},
   "outputs": [],
   "source": [
    "train_identity = id_split(train_identity)\n",
    "test_identity = id_split(test_identity)"
   ]
  },
  {
   "cell_type": "code",
   "execution_count": null,
   "metadata": {},
   "outputs": [],
   "source": []
  },
  {
   "cell_type": "code",
   "execution_count": 6,
   "metadata": {
    "scrolled": true
   },
   "outputs": [
    {
     "name": "stdout",
     "output_type": "stream",
     "text": [
      "Merging data...\n",
      "Data was successfully merged!\n",
      "\n",
      "Train dataset has 590540 rows and 442 columns.\n",
      "Test dataset has 506691 rows and 441 columns.\n",
      "\n"
     ]
    },
    {
     "data": {
      "text/plain": [
       "0"
      ]
     },
     "execution_count": 6,
     "metadata": {},
     "output_type": "execute_result"
    }
   ],
   "source": [
    "print('Merging data...')\n",
    "train = pd.merge(train_transaction, train_identity, on='TransactionID', how='left', left_index=True)\n",
    "test = pd.merge(test_transaction, test_identity, on='TransactionID', how='left', left_index=True)\n",
    "\n",
    "print('Data was successfully merged!\\n')\n",
    "\n",
    "del train_identity, train_transaction, test_identity, test_transaction\n",
    "\n",
    "print(f'Train dataset has {train.shape[0]} rows and {train.shape[1]} columns.')\n",
    "print(f'Test dataset has {test.shape[0]} rows and {test.shape[1]} columns.\\n')\n",
    "\n",
    "gc.collect()"
   ]
  },
  {
   "cell_type": "code",
   "execution_count": 7,
   "metadata": {},
   "outputs": [],
   "source": [
    "useful_features = ['TransactionAmt', 'ProductCD', 'card1', 'card2', 'card3', 'card4', 'card5', 'card6', 'addr1', 'addr2', 'dist1',\n",
    "                   'P_emaildomain', 'R_emaildomain', 'C1', 'C2', 'C4', 'C5', 'C6', 'C7', 'C8', 'C9', 'C10', 'C11', 'C12', 'C13',\n",
    "                   'C14', 'D1', 'D2', 'D3', 'D4', 'D5', 'D6', 'D8', 'D9', 'D10', 'D11', 'D12', 'D13', 'D14', 'D15', 'M1', 'M2', 'M3',\n",
    "                   'M4', 'M5', 'M6', 'M7', 'M8', 'M9', 'V3', 'V4', 'V5', 'V6', 'V7', 'V8', 'V9', 'V10', 'V11', 'V12', 'V13', 'V17',\n",
    "                   'V19', 'V20', 'V29', 'V30', 'V33', 'V34', 'V35', 'V36', 'V37', 'V38', 'V40', 'V44', 'V45', 'V46', 'V47', 'V48',\n",
    "                   'V49', 'V51', 'V52', 'V53', 'V54', 'V56', 'V58', 'V59', 'V60', 'V61', 'V62', 'V63', 'V64', 'V69', 'V70', 'V71',\n",
    "                   'V72', 'V73', 'V74', 'V75', 'V76', 'V78', 'V80', 'V81', 'V82', 'V83', 'V84', 'V85', 'V87', 'V90', 'V91', 'V92',\n",
    "                   'V93', 'V94', 'V95', 'V96', 'V97', 'V99', 'V100', 'V126', 'V127', 'V128', 'V130', 'V131', 'V138', 'V139', 'V140',\n",
    "                   'V143', 'V145', 'V146', 'V147', 'V149', 'V150', 'V151', 'V152', 'V154', 'V156', 'V158', 'V159', 'V160', 'V161',\n",
    "                   'V162', 'V163', 'V164', 'V165', 'V166', 'V167', 'V169', 'V170', 'V171', 'V172', 'V173', 'V175', 'V176', 'V177',\n",
    "                   'V178', 'V180', 'V182', 'V184', 'V187', 'V188', 'V189', 'V195', 'V197', 'V200', 'V201', 'V202', 'V203', 'V204',\n",
    "                   'V205', 'V206', 'V207', 'V208', 'V209', 'V210', 'V212', 'V213', 'V214', 'V215', 'V216', 'V217', 'V219', 'V220',\n",
    "                   'V221', 'V222', 'V223', 'V224', 'V225', 'V226', 'V227', 'V228', 'V229', 'V231', 'V233', 'V234', 'V238', 'V239',\n",
    "                   'V242', 'V243', 'V244', 'V245', 'V246', 'V247', 'V249', 'V251', 'V253', 'V256', 'V257', 'V258', 'V259', 'V261',\n",
    "                   'V262', 'V263', 'V264', 'V265', 'V266', 'V267', 'V268', 'V270', 'V271', 'V272', 'V273', 'V274', 'V275', 'V276',\n",
    "                   'V277', 'V278', 'V279', 'V280', 'V282', 'V283', 'V285', 'V287', 'V288', 'V289', 'V291', 'V292', 'V294', 'V303',\n",
    "                   'V304', 'V306', 'V307', 'V308', 'V310', 'V312', 'V313', 'V314', 'V315', 'V317', 'V322', 'V323', 'V324', 'V326',\n",
    "                   'V329', 'V331', 'V332', 'V333', 'V335', 'V336', 'V338', 'id_01', 'id_02', 'id_03', 'id_05', 'id_06', 'id_09',\n",
    "                   'id_11', 'id_12', 'id_13', 'id_14', 'id_15', 'id_17', 'id_19', 'id_20', 'id_30', 'id_31', 'id_32', 'id_33',\n",
    "                   'id_36', 'id_37', 'id_38', 'DeviceType', 'DeviceInfo', 'device_name', 'device_version', 'OS_id_30', 'version_id_30',\n",
    "                   'browser_id_31', 'version_id_31', 'screen_width', 'screen_height', 'had_id']"
   ]
  },
  {
   "cell_type": "code",
   "execution_count": 8,
   "metadata": {},
   "outputs": [],
   "source": [
    "cols_to_drop = [col for col in train.columns if col not in useful_features]\n",
    "cols_to_drop.remove('isFraud')\n",
    "cols_to_drop.remove('TransactionDT')"
   ]
  },
  {
   "cell_type": "code",
   "execution_count": 9,
   "metadata": {},
   "outputs": [],
   "source": [
    "train = train.drop(cols_to_drop, axis=1)\n",
    "test = test.drop(cols_to_drop, axis=1)"
   ]
  },
  {
   "cell_type": "code",
   "execution_count": 10,
   "metadata": {},
   "outputs": [],
   "source": [
    "from pandas.tseries.holiday import USFederalHolidayCalendar as calendar\n",
    "\n",
    "START_DATE = datetime.datetime.strptime('2017-11-30', '%Y-%m-%d')\n",
    "\n",
    "dates_range = pd.date_range(start='2017-10-01', end='2019-01-01')\n",
    "us_holidays = calendar().holidays(start=dates_range.min(), end=dates_range.max())\n",
    "\n",
    "# Let's add temporary \"time variables\" for aggregations\n",
    "# and add normal \"time variables\"\n",
    "for df in [train, test]:\n",
    "    \n",
    "    # Temporary variables for aggregation\n",
    "    df['DT'] = df['TransactionDT'].apply(lambda x: (START_DATE + datetime.timedelta(seconds = x)))\n",
    "    df['DT_M'] = ((df['DT'].dt.year-2017)*12 + df['DT'].dt.month).astype(np.int8)\n",
    "    df['DT_W'] = ((df['DT'].dt.year-2017)*52 + df['DT'].dt.weekofyear).astype(np.int8)\n",
    "    df['DT_D'] = ((df['DT'].dt.year-2017)*365 + df['DT'].dt.dayofyear).astype(np.int16)\n",
    "    \n",
    "    df['DT_hour'] = (df['DT'].dt.hour).astype(np.int8)\n",
    "    df['DT_day_week'] = (df['DT'].dt.dayofweek).astype(np.int8)\n",
    "    df['DT_day_month'] = (df['DT'].dt.day).astype(np.int8)\n",
    "        \n",
    "    # Possible solo feature\n",
    "    df['is_december'] = df['DT'].dt.month\n",
    "    df['is_december'] = (df['is_december']==12).astype(np.int8)\n",
    "\n",
    "    # Holidays\n",
    "    df['is_holiday'] = (df['DT'].dt.date.astype('datetime64').isin(us_holidays)).astype(np.int8)\n",
    "\n",
    "# Remove temporary features from final list\n",
    "remove_features = ['DT','DT_W','DT_D','DT_hour','DT_day_week','DT_day_month']\n",
    "    \n",
    "# Total transactions per timeblock\n",
    "for col in ['DT_M','DT_W','DT_D']:\n",
    "    temp_df = pd.concat([train[[col]], test[[col]]])\n",
    "    fq_encode = temp_df[col].value_counts().to_dict()\n",
    "            \n",
    "    train[col+'_total'] = train[col].map(fq_encode)\n",
    "    test[col+'_total']  = test[col].map(fq_encode)\n",
    "    \n",
    "    # We can't use it as solo feature\n",
    "    remove_features.append(col+'_total')"
   ]
  },
  {
   "cell_type": "code",
   "execution_count": 11,
   "metadata": {},
   "outputs": [],
   "source": [
    "train['TransactionAmt_to_mean_card1'] = train['TransactionAmt'] / train.groupby(['card1'])['TransactionAmt'].transform('mean')\n",
    "train['TransactionAmt_to_mean_card4'] = train['TransactionAmt'] / train.groupby(['card4'])['TransactionAmt'].transform('mean')\n",
    "train['TransactionAmt_to_std_card1'] = train['TransactionAmt'] / train.groupby(['card1'])['TransactionAmt'].transform('std')\n",
    "train['TransactionAmt_to_std_card4'] = train['TransactionAmt'] / train.groupby(['card4'])['TransactionAmt'].transform('std')\n",
    "\n",
    "test['TransactionAmt_to_mean_card1'] = test['TransactionAmt'] / test.groupby(['card1'])['TransactionAmt'].transform('mean')\n",
    "test['TransactionAmt_to_mean_card4'] = test['TransactionAmt'] / test.groupby(['card4'])['TransactionAmt'].transform('mean')\n",
    "test['TransactionAmt_to_std_card1'] = test['TransactionAmt'] / test.groupby(['card1'])['TransactionAmt'].transform('std')\n",
    "test['TransactionAmt_to_std_card4'] = test['TransactionAmt'] / test.groupby(['card4'])['TransactionAmt'].transform('std')\n",
    "\n",
    "train['id_02_to_mean_card1'] = train['id_02'] / train.groupby(['card1'])['id_02'].transform('mean')\n",
    "train['id_02_to_mean_card4'] = train['id_02'] / train.groupby(['card4'])['id_02'].transform('mean')\n",
    "train['id_02_to_std_card1'] = train['id_02'] / train.groupby(['card1'])['id_02'].transform('std')\n",
    "train['id_02_to_std_card4'] = train['id_02'] / train.groupby(['card4'])['id_02'].transform('std')\n",
    "\n",
    "test['id_02_to_mean_card1'] = test['id_02'] / test.groupby(['card1'])['id_02'].transform('mean')\n",
    "test['id_02_to_mean_card4'] = test['id_02'] / test.groupby(['card4'])['id_02'].transform('mean')\n",
    "test['id_02_to_std_card1'] = test['id_02'] / test.groupby(['card1'])['id_02'].transform('std')\n",
    "test['id_02_to_std_card4'] = test['id_02'] / test.groupby(['card4'])['id_02'].transform('std')\n",
    "\n",
    "train['D15_to_mean_card1'] = train['D15'] / train.groupby(['card1'])['D15'].transform('mean')\n",
    "train['D15_to_mean_card4'] = train['D15'] / train.groupby(['card4'])['D15'].transform('mean')\n",
    "train['D15_to_std_card1'] = train['D15'] / train.groupby(['card1'])['D15'].transform('std')\n",
    "train['D15_to_std_card4'] = train['D15'] / train.groupby(['card4'])['D15'].transform('std')\n",
    "\n",
    "test['D15_to_mean_card1'] = test['D15'] / test.groupby(['card1'])['D15'].transform('mean')\n",
    "test['D15_to_mean_card4'] = test['D15'] / test.groupby(['card4'])['D15'].transform('mean')\n",
    "test['D15_to_std_card1'] = test['D15'] / test.groupby(['card1'])['D15'].transform('std')\n",
    "test['D15_to_std_card4'] = test['D15'] / test.groupby(['card4'])['D15'].transform('std')\n",
    "\n",
    "train['D15_to_mean_addr1'] = train['D15'] / train.groupby(['addr1'])['D15'].transform('mean')\n",
    "train['D15_to_mean_card4'] = train['D15'] / train.groupby(['card4'])['D15'].transform('mean')\n",
    "train['D15_to_std_addr1'] = train['D15'] / train.groupby(['addr1'])['D15'].transform('std')\n",
    "train['D15_to_std_card4'] = train['D15'] / train.groupby(['card4'])['D15'].transform('std')\n",
    "\n",
    "test['D15_to_mean_addr1'] = test['D15'] / test.groupby(['addr1'])['D15'].transform('mean')\n",
    "test['D15_to_mean_card4'] = test['D15'] / test.groupby(['card4'])['D15'].transform('mean')\n",
    "test['D15_to_std_addr1'] = test['D15'] / test.groupby(['addr1'])['D15'].transform('std')\n",
    "test['D15_to_std_card4'] = test['D15'] / test.groupby(['card4'])['D15'].transform('std')"
   ]
  },
  {
   "cell_type": "code",
   "execution_count": null,
   "metadata": {},
   "outputs": [],
   "source": []
  },
  {
   "cell_type": "code",
   "execution_count": null,
   "metadata": {},
   "outputs": [],
   "source": []
  },
  {
   "cell_type": "code",
   "execution_count": null,
   "metadata": {},
   "outputs": [],
   "source": []
  },
  {
   "cell_type": "code",
   "execution_count": 12,
   "metadata": {},
   "outputs": [],
   "source": [
    "# New feature - log of transaction amount. ()\n",
    "train['TransactionAmt_Log'] = np.log(train['TransactionAmt'])\n",
    "test['TransactionAmt_Log'] = np.log(test['TransactionAmt'])\n",
    "\n",
    "# New feature - decimal part of the transaction amount.\n",
    "train['TransactionAmt_decimal'] = ((train['TransactionAmt'] - train['TransactionAmt'].astype(int)) * 1000).astype(int)\n",
    "test['TransactionAmt_decimal'] = ((test['TransactionAmt'] - test['TransactionAmt'].astype(int)) * 1000).astype(int)\n",
    "\n",
    "# New feature - day of week in which a transaction happened.\n",
    "train['Transaction_day_of_week'] = np.floor((train['TransactionDT'] / (3600 * 24) - 1) % 7)\n",
    "test['Transaction_day_of_week'] = np.floor((test['TransactionDT'] / (3600 * 24) - 1) % 7)\n",
    "\n",
    "# New feature - hour of the day in which a transaction happened.\n",
    "train['Transaction_hour'] = np.floor(train['TransactionDT'] / 3600) % 24\n",
    "test['Transaction_hour'] = np.floor(test['TransactionDT'] / 3600) % 24\n",
    "\n",
    "# Some arbitrary features interaction\n",
    "for feature in ['id_02__id_20', 'id_02__D8', 'D11__DeviceInfo', 'DeviceInfo__P_emaildomain', 'P_emaildomain__C2', \n",
    "                'card2__dist1', 'card1__card5', 'card2__id_20', 'card5__P_emaildomain', 'addr1__card1']:\n",
    "\n",
    "    f1, f2 = feature.split('__')\n",
    "    train[feature] = train[f1].astype(str) + '_' + train[f2].astype(str)\n",
    "    test[feature] = test[f1].astype(str) + '_' + test[f2].astype(str)\n",
    "\n",
    "    le = LabelEncoder()\n",
    "    le.fit(list(train[feature].astype(str).values) + list(test[feature].astype(str).values))\n",
    "    train[feature] = le.transform(list(train[feature].astype(str).values))\n",
    "    test[feature] = le.transform(list(test[feature].astype(str).values))\n",
    "\n",
    "# Encoding - count encoding for both train and test\n",
    "for feature in ['card1', 'card2', 'card3', 'card4', 'card5', 'card6', 'id_36']:\n",
    "    train[feature + '_count_full'] = train[feature].map(pd.concat([train[feature], test[feature]], ignore_index=True).value_counts(dropna=False))\n",
    "    test[feature + '_count_full'] = test[feature].map(pd.concat([train[feature], test[feature]], ignore_index=True).value_counts(dropna=False))\n",
    "\n",
    "# Encoding - count encoding separately for train and test\n",
    "for feature in ['id_01', 'id_31', 'id_33', 'id_36']:\n",
    "    train[feature + '_count_dist'] = train[feature].map(train[feature].value_counts(dropna=False))\n",
    "    test[feature + '_count_dist'] = test[feature].map(test[feature].value_counts(dropna=False))"
   ]
  },
  {
   "cell_type": "code",
   "execution_count": 13,
   "metadata": {},
   "outputs": [],
   "source": [
    "emails = {'gmail': 'google', 'att.net': 'att', 'twc.com': 'spectrum', 'scranton.edu': 'other', 'optonline.net': 'other', 'hotmail.co.uk': 'microsoft', 'comcast.net': 'other', 'yahoo.com.mx': 'yahoo', 'yahoo.fr': 'yahoo', 'yahoo.es': 'yahoo', 'charter.net': 'spectrum', 'live.com': 'microsoft', 'aim.com': 'aol', 'hotmail.de': 'microsoft', 'centurylink.net': 'centurylink', 'gmail.com': 'google', 'me.com': 'apple', 'earthlink.net': 'other', 'gmx.de': 'other', 'web.de': 'other', 'cfl.rr.com': 'other', 'hotmail.com': 'microsoft', 'protonmail.com': 'other', 'hotmail.fr': 'microsoft', 'windstream.net': 'other', 'outlook.es': 'microsoft', 'yahoo.co.jp': 'yahoo', 'yahoo.de': 'yahoo', 'servicios-ta.com': 'other', 'netzero.net': 'other', 'suddenlink.net': 'other', 'roadrunner.com': 'other', 'sc.rr.com': 'other', 'live.fr': 'microsoft', 'verizon.net': 'yahoo', 'msn.com': 'microsoft', 'q.com': 'centurylink', 'prodigy.net.mx': 'att', 'frontier.com': 'yahoo', 'anonymous.com': 'other', 'rocketmail.com': 'yahoo', 'sbcglobal.net': 'att', 'frontiernet.net': 'yahoo', 'ymail.com': 'yahoo', 'outlook.com': 'microsoft', 'mail.com': 'other', 'bellsouth.net': 'other', 'embarqmail.com': 'centurylink', 'cableone.net': 'other', 'hotmail.es': 'microsoft', 'mac.com': 'apple', 'yahoo.co.uk': 'yahoo', 'netzero.com': 'other', 'yahoo.com': 'yahoo', 'live.com.mx': 'microsoft', 'ptd.net': 'other', 'cox.net': 'other', 'aol.com': 'aol', 'juno.com': 'other', 'icloud.com': 'apple'}\n",
    "us_emails = ['gmail', 'net', 'edu']"
   ]
  },
  {
   "cell_type": "code",
   "execution_count": 14,
   "metadata": {},
   "outputs": [],
   "source": [
    "for c in ['P_emaildomain', 'R_emaildomain']:\n",
    "    train[c + '_bin'] = train[c].map(emails)\n",
    "    test[c + '_bin'] = test[c].map(emails)\n",
    "    \n",
    "    train[c + '_suffix'] = train[c].map(lambda x: str(x).split('.')[-1])\n",
    "    test[c + '_suffix'] = test[c].map(lambda x: str(x).split('.')[-1])\n",
    "    \n",
    "    train[c + '_suffix'] = train[c + '_suffix'].map(lambda x: x if str(x) not in us_emails else 'us')\n",
    "    test[c + '_suffix'] = test[c + '_suffix'].map(lambda x: x if str(x) not in us_emails else 'us')"
   ]
  },
  {
   "cell_type": "code",
   "execution_count": 15,
   "metadata": {},
   "outputs": [],
   "source": [
    "i_cols = ['card1']\n",
    "\n",
    "for col in i_cols: \n",
    "    valid_card = pd.concat([train[[col]], test[[col]]])\n",
    "    valid_card = valid_card[col].value_counts()\n",
    "    valid_card = valid_card[valid_card>2]\n",
    "    valid_card = list(valid_card.index)\n",
    "\n",
    "    train[col] = np.where(train[col].isin(test[col]), train[col], np.nan)\n",
    "    test[col]  = np.where(test[col].isin(train[col]), test[col], np.nan)\n",
    "\n",
    "    train[col] = np.where(train[col].isin(valid_card), train[col], np.nan)\n",
    "    test[col]  = np.where(test[col].isin(valid_card), test[col], np.nan)"
   ]
  },
  {
   "cell_type": "code",
   "execution_count": 16,
   "metadata": {},
   "outputs": [],
   "source": [
    "i_cols = ['M1','M2','M3','M5','M6','M7','M8','M9']\n",
    "\n",
    "for df in [train, test]:\n",
    "    df['M_sum'] = df[i_cols].sum(axis=1).astype(np.int8)\n",
    "    df['M_na'] = df[i_cols].isna().sum(axis=1).astype(np.int8)"
   ]
  },
  {
   "cell_type": "code",
   "execution_count": 17,
   "metadata": {},
   "outputs": [],
   "source": [
    "for col in ['ProductCD','M4']:\n",
    "    temp_dict = train.groupby([col])['isFraud'].agg(['mean']).reset_index().rename(\n",
    "                                                        columns={'mean': col+'_target_mean'})\n",
    "    temp_dict.index = temp_dict[col].values\n",
    "    temp_dict = temp_dict[col+'_target_mean'].to_dict()\n",
    "\n",
    "    train[col+'_target_mean'] = train[col].map(temp_dict)\n",
    "    test[col+'_target_mean'] = test[col].map(temp_dict)"
   ]
  },
  {
   "cell_type": "code",
   "execution_count": null,
   "metadata": {},
   "outputs": [],
   "source": []
  },
  {
   "cell_type": "code",
   "execution_count": 18,
   "metadata": {},
   "outputs": [],
   "source": [
    "train['uid'] = train['card1'].astype(str)+'_'+train['card2'].astype(str)\n",
    "test['uid'] = test['card1'].astype(str)+'_'+test['card2'].astype(str)\n",
    "\n",
    "train['uid2'] = train['uid'].astype(str)+'_'+train['card3'].astype(str)+'_'+train['card5'].astype(str)\n",
    "test['uid2'] = test['uid'].astype(str)+'_'+test['card3'].astype(str)+'_'+test['card5'].astype(str)\n",
    "\n",
    "train['uid3'] = train['uid2'].astype(str)+'_'+train['addr1'].astype(str)+'_'+train['addr2'].astype(str)\n",
    "test['uid3'] = test['uid2'].astype(str)+'_'+test['addr1'].astype(str)+'_'+test['addr2'].astype(str)\n",
    "\n",
    "train['uid4'] = train['uid3'].astype(str)+'_'+train['P_emaildomain'].astype(str)\n",
    "test['uid4'] = test['uid3'].astype(str)+'_'+test['P_emaildomain'].astype(str)\n",
    "\n",
    "train['uid5'] = train['uid3'].astype(str)+'_'+train['R_emaildomain'].astype(str)\n",
    "test['uid5'] = test['uid3'].astype(str)+'_'+test['R_emaildomain'].astype(str)\n",
    "\n",
    "train['TransactionAmt_check'] = np.where(train['TransactionAmt'].isin(test['TransactionAmt']), 1, 0)\n",
    "test['TransactionAmt_check']  = np.where(test['TransactionAmt'].isin(train['TransactionAmt']), 1, 0)\n",
    "\n",
    "i_cols = ['card1','card2','card3','card5','uid','uid2','uid3','uid4','uid5']\n",
    "\n",
    "for col in i_cols:\n",
    "    for agg_type in ['mean','std']:\n",
    "        new_col_name = col+'_TransactionAmt_'+agg_type\n",
    "        temp_df = pd.concat([train[[col, 'TransactionAmt']], test[[col,'TransactionAmt']]])\n",
    "        temp_df = temp_df.groupby([col])['TransactionAmt'].agg([agg_type]).reset_index().rename(\n",
    "                                                columns={agg_type: new_col_name})\n",
    "        \n",
    "        temp_df.index = list(temp_df[col])\n",
    "        temp_df = temp_df[new_col_name].to_dict()   \n",
    "    \n",
    "        train[new_col_name] = train[col].map(temp_df)\n",
    "        test[new_col_name]  = test[col].map(temp_df)\n",
    "           \n",
    "# train['TransactionAmt'] = np.log1p(train['TransactionAmt'])\n",
    "# test['TransactionAmt'] = np.log1p(test['TransactionAmt'])  "
   ]
  },
  {
   "cell_type": "code",
   "execution_count": 19,
   "metadata": {},
   "outputs": [],
   "source": [
    "train['D9'] = np.where(train['D9'].isna(),0,1)\n",
    "test['D9'] = np.where(test['D9'].isna(),0,1)"
   ]
  },
  {
   "cell_type": "code",
   "execution_count": 20,
   "metadata": {},
   "outputs": [],
   "source": [
    "train = train.replace(np.inf,999)\n",
    "test = test.replace(np.inf,999)"
   ]
  },
  {
   "cell_type": "code",
   "execution_count": 21,
   "metadata": {},
   "outputs": [],
   "source": [
    "train[\"lastest_browser\"] = np.zeros(train.shape[0])\n",
    "test[\"lastest_browser\"] = np.zeros(test.shape[0])\n",
    "\n",
    "def setBrowser(df):\n",
    "    df.loc[(df['DT_M']==12) & (df[\"id_31\"]==\"chrome 62.0\"),'lastest_browser']=1\n",
    "    df.loc[(df['DT_M']==12) & (df[\"id_31\"]==\"chrome 62.0 for android\"),'lastest_browser']=1\n",
    "    df.loc[(df['DT_M']==12) & (df[\"id_31\"]==\"chrome 62.0 for ios\"),'lastest_browser']=1\n",
    "    df.loc[(df['DT_M']==12) & (df[\"id_31\"]==\"chrome 63.0\"),'lastest_browser']=1\n",
    "    df.loc[(df['DT_M']==12) & (df[\"id_31\"]==\"chrome 63.0 for android\"),'lastest_browser']=1\n",
    "    df.loc[(df['DT_M']==12) & (df[\"id_31\"]==\"chrome 63.0 for ios\"),'lastest_browser']=1\n",
    "    df.loc[(df['DT_M']==12) & (df[\"id_31\"]==\"firefox 57.0\"),'lastest_browser']=1\n",
    "    df.loc[(df['DT_M']==12) & (df[\"id_31\"]==\"edge 16.0\"),'lastest_browser']=1\n",
    "    df.loc[(df['DT_M']==12) & (df[\"id_31\"]==\"opera 49.0\"),'lastest_browser']=1\n",
    "    df.loc[(df['DT_M']==12) & (df[\"id_31\"]==\"samsung browser 6.2\"),'lastest_browser']=1\n",
    "    \n",
    "    df.loc[(df['DT_M']==13) & (df[\"id_31\"]==\"chrome 63.0\"),'lastest_browser']=1\n",
    "    df.loc[(df['DT_M']==13) & (df[\"id_31\"]==\"chrome 63.0 for android\"),'lastest_browser']=1\n",
    "    df.loc[(df['DT_M']==13) & (df[\"id_31\"]==\"chrome 63.0 for ios\"),'lastest_browser']=1\n",
    "    df.loc[(df['DT_M']==13) & (df[\"id_31\"]==\"chrome 64.0\"),'lastest_browser']=1\n",
    "    df.loc[(df['DT_M']==13) & (df[\"id_31\"]==\"chrome 64.0 for android\"),'lastest_browser']=1\n",
    "    df.loc[(df['DT_M']==13) & (df[\"id_31\"]==\"chrome 64.0 for ios\"),'lastest_browser']=1\n",
    "    df.loc[(df['DT_M']==13) & (df[\"id_31\"]==\"firefox 57.0\"),'lastest_browser']=1\n",
    "    df.loc[(df['DT_M']==13) & (df[\"id_31\"]==\"firefox 58.0\"),'lastest_browser']=1\n",
    "    df.loc[(df['DT_M']==13) & (df[\"id_31\"]==\"edge 16.0\"),'lastest_browser']=1\n",
    "    df.loc[(df['DT_M']==13) & (df[\"id_31\"]==\"opera 49.0\"),'lastest_browser']=1\n",
    "    df.loc[(df['DT_M']==13) & (df[\"id_31\"]==\"opera 50.0\"),'lastest_browser']=1\n",
    "    df.loc[(df['DT_M']==13) & (df[\"id_31\"]==\"samsung browser 6.2\"),'lastest_browser']=1\n",
    "    \n",
    "    df.loc[(df['DT_M']==14) & (df[\"id_31\"]==\"chrome 64.0\"),'lastest_browser']=1\n",
    "    df.loc[(df['DT_M']==14) & (df[\"id_31\"]==\"chrome 64.0 for android\"),'lastest_browser']=1\n",
    "    df.loc[(df['DT_M']==14) & (df[\"id_31\"]==\"chrome 64.0 for ios\"),'lastest_browser']=1\n",
    "    df.loc[(df['DT_M']==14) & (df[\"id_31\"]==\"firefox 58.0\"),'lastest_browser']=1\n",
    "    df.loc[(df['DT_M']==14) & (df[\"id_31\"]==\"edge 16.0\"),'lastest_browser']=1\n",
    "    df.loc[(df['DT_M']==14) & (df[\"id_31\"]==\"opera 50.0\"),'lastest_browser']=1\n",
    "    df.loc[(df['DT_M']==14) & (df[\"id_31\"]==\"opera 51.0\"),'lastest_browser']=1\n",
    "    df.loc[(df['DT_M']==14) & (df[\"id_31\"]==\"samsung browser 6.2\"),'lastest_browser']=1\n",
    "    df.loc[(df['DT_M']==14) & (df[\"id_31\"]==\"samsung browser 6.4\"),'lastest_browser']=1\n",
    "    \n",
    "    df.loc[(df['DT_M']==15) & (df[\"id_31\"]==\"chrome 64.0\"),'lastest_browser']=1\n",
    "    df.loc[(df['DT_M']==15) & (df[\"id_31\"]==\"chrome 64.0 for android\"),'lastest_browser']=1\n",
    "    df.loc[(df['DT_M']==15) & (df[\"id_31\"]==\"chrome 64.0 for ios\"),'lastest_browser']=1\n",
    "    df.loc[(df['DT_M']==15) & (df[\"id_31\"]==\"chrome 65.0\"),'lastest_browser']=1\n",
    "    df.loc[(df['DT_M']==15) & (df[\"id_31\"]==\"chrome 65.0 for android\"),'lastest_browser']=1\n",
    "    df.loc[(df['DT_M']==15) & (df[\"id_31\"]==\"chrome 65.0 for ios\"),'lastest_browser']=1\n",
    "    df.loc[(df['DT_M']==15) & (df[\"id_31\"]==\"firefox 58.0\"),'lastest_browser']=1\n",
    "    df.loc[(df['DT_M']==15) & (df[\"id_31\"]==\"firefox 59.0\"),'lastest_browser']=1\n",
    "    df.loc[(df['DT_M']==15) & (df[\"id_31\"]==\"edge 16.0\"),'lastest_browser']=1\n",
    "    df.loc[(df['DT_M']==15) & (df[\"id_31\"]==\"opera 51.0\"),'lastest_browser']=1\n",
    "    df.loc[(df['DT_M']==15) & (df[\"id_31\"]==\"opera 52.0\"),'lastest_browser']=1\n",
    "    df.loc[(df['DT_M']==15) & (df[\"id_31\"]==\"samsung browser 6.4\"),'lastest_browser']=1\n",
    "    \n",
    "    df.loc[(df['DT_M']==16) & (df[\"id_31\"]==\"chrome 66.0\"),'lastest_browser']=1\n",
    "    df.loc[(df['DT_M']==16) & (df[\"id_31\"]==\"chrome 66.0 for android\"),'lastest_browser']=1\n",
    "    df.loc[(df['DT_M']==16) & (df[\"id_31\"]==\"chrome 66.0 for ios\"),'lastest_browser']=1\n",
    "    df.loc[(df['DT_M']==16) & (df[\"id_31\"]==\"chrome 65.0\"),'lastest_browser']=1\n",
    "    df.loc[(df['DT_M']==16) & (df[\"id_31\"]==\"chrome 65.0 for android\"),'lastest_browser']=1\n",
    "    df.loc[(df['DT_M']==16) & (df[\"id_31\"]==\"chrome 65.0 for ios\"),'lastest_browser']=1\n",
    "    df.loc[(df['DT_M']==16) & (df[\"id_31\"]==\"firefox 59.0\"),'lastest_browser']=1\n",
    "    df.loc[(df['DT_M']==16) & (df[\"id_31\"]==\"edge 16.0\"),'lastest_browser']=1\n",
    "    df.loc[(df['DT_M']==16) & (df[\"id_31\"]==\"edge 17.0\"),'lastest_browser']=1\n",
    "    df.loc[(df['DT_M']==16) & (df[\"id_31\"]==\"opera 52.0\"),'lastest_browser']=1\n",
    "    df.loc[(df['DT_M']==16) & (df[\"id_31\"]==\"samsung browser 6.4\"),'lastest_browser']=1\n",
    "    \n",
    "    df.loc[(df['DT_M']==17) & (df[\"id_31\"]==\"chrome 66.0\"),'lastest_browser']=1\n",
    "    df.loc[(df['DT_M']==17) & (df[\"id_31\"]==\"chrome 66.0 for android\"),'lastest_browser']=1\n",
    "    df.loc[(df['DT_M']==17) & (df[\"id_31\"]==\"chrome 66.0 for ios\"),'lastest_browser']=1\n",
    "    df.loc[(df['DT_M']==17) & (df[\"id_31\"]==\"chrome 67.0\"),'lastest_browser']=1\n",
    "    df.loc[(df['DT_M']==17) & (df[\"id_31\"]==\"chrome 67.0 for android\"),'lastest_browser']=1\n",
    "    df.loc[(df['DT_M']==17) & (df[\"id_31\"]==\"chrome 67.0 for ios\"),'lastest_browser']=1\n",
    "    df.loc[(df['DT_M']==17) & (df[\"id_31\"]==\"firefox 59.0\"),'lastest_browser']=1\n",
    "    df.loc[(df['DT_M']==17) & (df[\"id_31\"]==\"firefox 60.0\"),'lastest_browser']=1\n",
    "    df.loc[(df['DT_M']==17) & (df[\"id_31\"]==\"edge 17.0\"),'lastest_browser']=1\n",
    "    df.loc[(df['DT_M']==17) & (df[\"id_31\"]==\"opera 52.0\"),'lastest_browser']=1\n",
    "    df.loc[(df['DT_M']==17) & (df[\"id_31\"]==\"opera 53.0\"),'lastest_browser']=1\n",
    "    df.loc[(df['DT_M']==17) & (df[\"id_31\"]==\"samsung browser 6.4\"),'lastest_browser']=1\n",
    "    \n",
    "    df.loc[(df['DT_M']==19) & (df[\"id_31\"]==\"chrome 68.0\"),'lastest_browser']=1\n",
    "    df.loc[(df['DT_M']==19) & (df[\"id_31\"]==\"chrome 68.0 for android\"),'lastest_browser']=1\n",
    "    df.loc[(df['DT_M']==19) & (df[\"id_31\"]==\"chrome 68.0 for ios\"),'lastest_browser']=1\n",
    "    df.loc[(df['DT_M']==19) & (df[\"id_31\"]==\"chrome 67.0\"),'lastest_browser']=1\n",
    "    df.loc[(df['DT_M']==19) & (df[\"id_31\"]==\"chrome 67.0 for android\"),'lastest_browser']=1\n",
    "    df.loc[(df['DT_M']==19) & (df[\"id_31\"]==\"chrome 67.0 for ios\"),'lastest_browser']=1\n",
    "    df.loc[(df['DT_M']==19) & (df[\"id_31\"]==\"firefox 61.0\"),'lastest_browser']=1\n",
    "    df.loc[(df['DT_M']==19) & (df[\"id_31\"]==\"edge 17.0\"),'lastest_browser']=1\n",
    "    df.loc[(df['DT_M']==19) & (df[\"id_31\"]==\"opera 54.0\"),'lastest_browser']=1\n",
    "    df.loc[(df['DT_M']==19) & (df[\"id_31\"]==\"samsung browser 7.2\"),'lastest_browser']=1\n",
    "    \n",
    "    df.loc[(df['DT_M']==20) & (df[\"id_31\"]==\"chrome 68.0\"),'lastest_browser']=1\n",
    "    df.loc[(df['DT_M']==20) & (df[\"id_31\"]==\"chrome 68.0 for android\"),'lastest_browser']=1\n",
    "    df.loc[(df['DT_M']==20) & (df[\"id_31\"]==\"chrome 68.0 for ios\"),'lastest_browser']=1\n",
    "    df.loc[(df['DT_M']==20) & (df[\"id_31\"]==\"firefox 61.0\"),'lastest_browser']=1\n",
    "    df.loc[(df['DT_M']==20) & (df[\"id_31\"]==\"edge 17.0\"),'lastest_browser']=1\n",
    "    df.loc[(df['DT_M']==20) & (df[\"id_31\"]==\"opera 55.0\"),'lastest_browser']=1\n",
    "    df.loc[(df['DT_M']==20) & (df[\"id_31\"]==\"opera 54.0\"),'lastest_browser']=1\n",
    "    df.loc[(df['DT_M']==20) & (df[\"id_31\"]==\"samsung browser 7.2\"),'lastest_browser']=1\n",
    "    df.loc[(df['DT_M']==20) & (df[\"id_31\"]==\"samsung browser 7.4\"),'lastest_browser']=1\n",
    "    \n",
    "    df.loc[(df['DT_M']==21) & (df[\"id_31\"]==\"chrome 68.0\"),'lastest_browser']=1\n",
    "    df.loc[(df['DT_M']==21) & (df[\"id_31\"]==\"chrome 68.0 for android\"),'lastest_browser']=1\n",
    "    df.loc[(df['DT_M']==21) & (df[\"id_31\"]==\"chrome 68.0 for ios\"),'lastest_browser']=1\n",
    "    df.loc[(df['DT_M']==21) & (df[\"id_31\"]==\"chrome 69.0\"),'lastest_browser']=1\n",
    "    df.loc[(df['DT_M']==21) & (df[\"id_31\"]==\"chrome 69.0 for android\"),'lastest_browser']=1\n",
    "    df.loc[(df['DT_M']==21) & (df[\"id_31\"]==\"chrome 69.0 for ios\"),'lastest_browser']=1\n",
    "    df.loc[(df['DT_M']==21) & (df[\"id_31\"]==\"firefox 61.0\"),'lastest_browser']=1\n",
    "    df.loc[(df['DT_M']==21) & (df[\"id_31\"]==\"firefox 62.0\"),'lastest_browser']=1\n",
    "    df.loc[(df['DT_M']==21) & (df[\"id_31\"]==\"edge 17.0\"),'lastest_browser']=1\n",
    "    df.loc[(df['DT_M']==21) & (df[\"id_31\"]==\"opera 55.0\"),'lastest_browser']=1\n",
    "    df.loc[(df['DT_M']==21) & (df[\"id_31\"]==\"opera 56.0\"),'lastest_browser']=1\n",
    "    df.loc[(df['DT_M']==21) & (df[\"id_31\"]==\"samsung browser 7.4\"),'lastest_browser']=1\n",
    "    \n",
    "    df.loc[(df['DT_M']==22) & (df[\"id_31\"]==\"chrome 70.0\"),'lastest_browser']=1\n",
    "    df.loc[(df['DT_M']==22) & (df[\"id_31\"]==\"chrome 70.0 for android\"),'lastest_browser']=1\n",
    "    df.loc[(df['DT_M']==22) & (df[\"id_31\"]==\"chrome 70.0 for ios\"),'lastest_browser']=1\n",
    "    df.loc[(df['DT_M']==22) & (df[\"id_31\"]==\"chrome 69.0\"),'lastest_browser']=1\n",
    "    df.loc[(df['DT_M']==22) & (df[\"id_31\"]==\"chrome 69.0 for android\"),'lastest_browser']=1\n",
    "    df.loc[(df['DT_M']==22) & (df[\"id_31\"]==\"chrome 69.0 for ios\"),'lastest_browser']=1\n",
    "    df.loc[(df['DT_M']==22) & (df[\"id_31\"]==\"firefox 63.0\"),'lastest_browser']=1\n",
    "    df.loc[(df['DT_M']==22) & (df[\"id_31\"]==\"firefox 62.0\"),'lastest_browser']=1\n",
    "    df.loc[(df['DT_M']==22) & (df[\"id_31\"]==\"edge 17.0\"),'lastest_browser']=1\n",
    "    df.loc[(df['DT_M']==22) & (df[\"id_31\"]==\"opera 56.0\"),'lastest_browser']=1\n",
    "    df.loc[(df['DT_M']==22) & (df[\"id_31\"]==\"samsung browser 7.4\"),'lastest_browser']=1\n",
    "    \n",
    "    df.loc[(df['DT_M']==23) & (df[\"id_31\"]==\"chrome 70.0\"),'lastest_browser']=1\n",
    "    df.loc[(df['DT_M']==23) & (df[\"id_31\"]==\"chrome 70.0 for android\"),'lastest_browser']=1\n",
    "    df.loc[(df['DT_M']==23) & (df[\"id_31\"]==\"chrome 70.0 for ios\"),'lastest_browser']=1\n",
    "    df.loc[(df['DT_M']==23) & (df[\"id_31\"]==\"firefox 63.0\"),'lastest_browser']=1\n",
    "    df.loc[(df['DT_M']==23) & (df[\"id_31\"]==\"edge 17.0\"),'lastest_browser']=1\n",
    "    df.loc[(df['DT_M']==23) & (df[\"id_31\"]==\"edge 18.0\"),'lastest_browser']=1\n",
    "    df.loc[(df['DT_M']==23) & (df[\"id_31\"]==\"opera 56.0\"),'lastest_browser']=1\n",
    "    df.loc[(df['DT_M']==23) & (df[\"id_31\"]==\"opera 57.0\"),'lastest_browser']=1\n",
    "    df.loc[(df['DT_M']==23) & (df[\"id_31\"]==\"samsung browser 7.4\"),'lastest_browser']=1\n",
    "    \n",
    "    df.loc[(df['DT_M']==24) & (df[\"id_31\"]==\"chrome 70.0\"),'lastest_browser']=1\n",
    "    df.loc[(df['DT_M']==24) & (df[\"id_31\"]==\"chrome 70.0 for android\"),'lastest_browser']=1\n",
    "    df.loc[(df['DT_M']==24) & (df[\"id_31\"]==\"chrome 70.0 for ios\"),'lastest_browser']=1\n",
    "    df.loc[(df['DT_M']==24) & (df[\"id_31\"]==\"chrome 71.0\"),'lastest_browser']=1\n",
    "    df.loc[(df['DT_M']==24) & (df[\"id_31\"]==\"chrome 71.0 for android\"),'lastest_browser']=1\n",
    "    df.loc[(df['DT_M']==24) & (df[\"id_31\"]==\"chrome 71.0 for ios\"),'lastest_browser']=1\n",
    "    df.loc[(df['DT_M']==24) & (df[\"id_31\"]==\"firefox 63.0\"),'lastest_browser']=1\n",
    "    df.loc[(df['DT_M']==24) & (df[\"id_31\"]==\"firefox 64.0\"),'lastest_browser']=1\n",
    "    df.loc[(df['DT_M']==24) & (df[\"id_31\"]==\"edge 18.0\"),'lastest_browser']=1\n",
    "    df.loc[(df['DT_M']==24) & (df[\"id_31\"]==\"opera 57.0\"),'lastest_browser']=1\n",
    "    df.loc[(df['DT_M']==24) & (df[\"id_31\"]==\"samsung browser 7.4\"),'lastest_browser']=1\n",
    "    df.loc[(df['DT_M']==24) & (df[\"id_31\"]==\"samsung browser 7.4\"),'lastest_browser']=1\n",
    "    \n",
    "    df.loc[df[\"id_31\"]==\"ie 11.0 for desktop\",'lastest_browser']=1\n",
    "    df.loc[df[\"id_31\"]==\"ie 11.0 for tablet\",'lastest_browser']=1\n",
    "    df.loc[df[\"id_31\"]==\"mobile safari generic\",'lastest_browser']=1\n",
    "    df.loc[df[\"id_31\"]==\"chrome generic\",'lastest_browser']=1\n",
    "    df.loc[df[\"id_31\"]==\"chrome generic for android\",'lastest_browser']=1\n",
    "    df.loc[df[\"id_31\"]==\"chrome generic for ios\",'lastest_browser']=1\n",
    "    \n",
    "    return df\n",
    "\n",
    "train=setBrowser(train)\n",
    "test=setBrowser(test)"
   ]
  },
  {
   "cell_type": "code",
   "execution_count": 22,
   "metadata": {},
   "outputs": [],
   "source": [
    "def setDevice(df):\n",
    "    df['DeviceInfo'] = df['DeviceInfo'].fillna('unknown_device').str.lower()\n",
    "    \n",
    "    df['device_name'] = df['DeviceInfo'].str.split('/', expand=True)[0]\n",
    "\n",
    "    df.loc[df['device_name'].str.contains('SM', na=False), 'device_name'] = 'Samsung'\n",
    "    df.loc[df['device_name'].str.contains('SAMSUNG', na=False), 'device_name'] = 'Samsung'\n",
    "    df.loc[df['device_name'].str.contains('GT-', na=False), 'device_name'] = 'Samsung'\n",
    "    df.loc[df['device_name'].str.contains('Moto G', na=False), 'device_name'] = 'Motorola'\n",
    "    df.loc[df['device_name'].str.contains('Moto', na=False), 'device_name'] = 'Motorola'\n",
    "    df.loc[df['device_name'].str.contains('moto', na=False), 'device_name'] = 'Motorola'\n",
    "    df.loc[df['device_name'].str.contains('LG-', na=False), 'device_name'] = 'LG'\n",
    "    df.loc[df['device_name'].str.contains('rv:', na=False), 'device_name'] = 'RV'\n",
    "    df.loc[df['device_name'].str.contains('HUAWEI', na=False), 'device_name'] = 'Huawei'\n",
    "    df.loc[df['device_name'].str.contains('ALE-', na=False), 'device_name'] = 'Huawei'\n",
    "    df.loc[df['device_name'].str.contains('-L', na=False), 'device_name'] = 'Huawei'\n",
    "    df.loc[df['device_name'].str.contains('Blade', na=False), 'device_name'] = 'ZTE'\n",
    "    df.loc[df['device_name'].str.contains('BLADE', na=False), 'device_name'] = 'ZTE'\n",
    "    df.loc[df['device_name'].str.contains('Linux', na=False), 'device_name'] = 'Linux'\n",
    "    df.loc[df['device_name'].str.contains('XT', na=False), 'device_name'] = 'Sony'\n",
    "    df.loc[df['device_name'].str.contains('HTC', na=False), 'device_name'] = 'HTC'\n",
    "    df.loc[df['device_name'].str.contains('ASUS', na=False), 'device_name'] = 'Asus'\n",
    "\n",
    "    df.loc[df.device_name.isin(df.device_name.value_counts()[df.device_name.value_counts() < 200].index), 'device_name'] = \"Others\"\n",
    "    df['had_id'] = 1\n",
    "    gc.collect()\n",
    "    \n",
    "    return df\n",
    "\n",
    "train=setDevice(train)\n",
    "test=setDevice(test)"
   ]
  },
  {
   "cell_type": "code",
   "execution_count": null,
   "metadata": {},
   "outputs": [],
   "source": []
  },
  {
   "cell_type": "code",
   "execution_count": null,
   "metadata": {},
   "outputs": [],
   "source": []
  },
  {
   "cell_type": "code",
   "execution_count": null,
   "metadata": {},
   "outputs": [],
   "source": []
  },
  {
   "cell_type": "code",
   "execution_count": null,
   "metadata": {},
   "outputs": [],
   "source": []
  },
  {
   "cell_type": "code",
   "execution_count": 23,
   "metadata": {},
   "outputs": [],
   "source": [
    "i_cols = ['card1','card2','card3','card5',\n",
    "          'C1','C2','C4','C5','C6','C7','C8','C9','C10','C11','C12','C13','C14',\n",
    "          'D1','D2','D3','D4','D5','D6','D8',\n",
    "          'addr1','addr2',\n",
    "          'dist1',\n",
    "          'P_emaildomain', 'R_emaildomain',\n",
    "          'DeviceInfo','device_name',\n",
    "          'id_30','id_33',\n",
    "          'uid','uid2','uid3',\n",
    "         ]\n",
    "\n",
    "for col in i_cols:\n",
    "    temp_df = pd.concat([train[[col]], test[[col]]])\n",
    "    fq_encode = temp_df[col].value_counts(dropna=False).to_dict()   \n",
    "    train[col+'_fq_enc'] = train[col].map(fq_encode)\n",
    "    test[col+'_fq_enc']  = test[col].map(fq_encode)"
   ]
  },
  {
   "cell_type": "code",
   "execution_count": 24,
   "metadata": {},
   "outputs": [],
   "source": [
    "noisy_cols = [\n",
    "    'uid','uid2','uid3',\n",
    "    'id_30','id_31','id_33','DT'\n",
    "]\n",
    "noisy_cols += remove_features"
   ]
  },
  {
   "cell_type": "code",
   "execution_count": 25,
   "metadata": {},
   "outputs": [],
   "source": [
    "train = train.drop(noisy_cols, axis=1)\n",
    "test = test.drop(noisy_cols, axis=1)"
   ]
  },
  {
   "cell_type": "code",
   "execution_count": null,
   "metadata": {},
   "outputs": [],
   "source": []
  },
  {
   "cell_type": "code",
   "execution_count": 26,
   "metadata": {},
   "outputs": [],
   "source": [
    "train['TransactionAmt'] = np.log1p(train['TransactionAmt'])\n",
    "test['TransactionAmt'] = np.log1p(test['TransactionAmt']) "
   ]
  },
  {
   "cell_type": "code",
   "execution_count": null,
   "metadata": {},
   "outputs": [],
   "source": []
  },
  {
   "cell_type": "code",
   "execution_count": 27,
   "metadata": {},
   "outputs": [],
   "source": [
    "cat_le = ['card1', 'card2', 'card3', 'card5', 'addr1', 'addr2']"
   ]
  },
  {
   "cell_type": "code",
   "execution_count": 28,
   "metadata": {},
   "outputs": [],
   "source": [
    "cats = ['ProductCD', 'card4', 'card6', 'M1', 'M2', 'M3', 'M4', 'M5', 'M6', 'M7', 'M8', 'M9',\n",
    "        'id_12', 'id_15', 'id_36', 'id_37', 'id_38', 'DeviceType', 'OS_id_30', 'P_emaildomain_bin',\n",
    "        'R_emaildomain_bin', 'P_emaildomain_suffix', 'R_emaildomain_suffix']"
   ]
  },
  {
   "cell_type": "code",
   "execution_count": 29,
   "metadata": {},
   "outputs": [],
   "source": [
    "cat_df = pd.concat([train[cats], test[cats]])\n",
    "cat_df = pd.get_dummies(cat_df, columns=cats)\n",
    "\n",
    "train_cat = cat_df[:590540]\n",
    "test_cat = cat_df[590540:]\n",
    "\n",
    "del cat_df\n",
    "\n",
    "train = train.drop(cats, axis=1)\n",
    "test = test.drop(cats, axis=1)\n",
    "\n",
    "train = pd.concat([train, train_cat], axis=1)\n",
    "test = pd.concat([test, test_cat], axis=1)\n",
    "\n",
    "del train_cat, test_cat"
   ]
  },
  {
   "cell_type": "code",
   "execution_count": 30,
   "metadata": {},
   "outputs": [
    {
     "name": "stdout",
     "output_type": "stream",
     "text": [
      "P_emaildomain\n",
      "R_emaildomain\n",
      "DeviceInfo\n",
      "device_name\n",
      "device_version\n",
      "version_id_30\n",
      "browser_id_31\n",
      "version_id_31\n",
      "screen_width\n",
      "screen_height\n",
      "uid4\n",
      "uid5\n",
      "Wall time: 30 s\n"
     ]
    }
   ],
   "source": [
    "%%time\n",
    "\n",
    "for col in train.columns:\n",
    "    if train[col].dtype == 'object':\n",
    "        le = LabelEncoder()\n",
    "        le.fit(list(train[col].astype(str).values) + list(test[col].astype(str).values))\n",
    "        train[col] = le.transform(list(train[col].astype(str).values))\n",
    "        test[col] = le.transform(list(test[col].astype(str).values))\n",
    "        print(col)"
   ]
  },
  {
   "cell_type": "code",
   "execution_count": 31,
   "metadata": {},
   "outputs": [],
   "source": [
    "# %%time\n",
    "\n",
    "# for col in cat_le:\n",
    "#     le = LabelEncoder()\n",
    "#     le.fit(list(train[col].astype(str).values) + list(test[col].astype(str).values))\n",
    "#     train[col] = le.transform(list(train[col].astype(str).values))\n",
    "#     test[col] = le.transform(list(test[col].astype(str).values))\n",
    "#     print(col)"
   ]
  },
  {
   "cell_type": "code",
   "execution_count": 32,
   "metadata": {},
   "outputs": [],
   "source": [
    "from lgb_fi import fi400"
   ]
  },
  {
   "cell_type": "code",
   "execution_count": 33,
   "metadata": {},
   "outputs": [],
   "source": [
    "feat_to_drop = [col for col in train.columns if col not in fi400]\n",
    "feat_to_drop.remove('isFraud')\n",
    "feat_to_drop.remove('TransactionDT')\n",
    "\n",
    "train = train.drop(feat_to_drop, axis=1)\n",
    "test = test.drop(feat_to_drop, axis=1)"
   ]
  },
  {
   "cell_type": "code",
   "execution_count": 34,
   "metadata": {},
   "outputs": [
    {
     "name": "stdout",
     "output_type": "stream",
     "text": [
      "Memory usage of dataframe is 1666.18 MB\n",
      "Memory usage after optimization is: 557.28 MB\n",
      "Decreased by 66.6%\n",
      "Memory usage of dataframe is 1408.58 MB\n",
      "Memory usage after optimization is: 468.24 MB\n",
      "Decreased by 66.8%\n",
      "Wall time: 4min 44s\n"
     ]
    }
   ],
   "source": [
    "%%time\n",
    "train = reduce_mem_usage(train)\n",
    "test = reduce_mem_usage(test)"
   ]
  },
  {
   "cell_type": "code",
   "execution_count": 35,
   "metadata": {},
   "outputs": [
    {
     "data": {
      "text/plain": [
       "0"
      ]
     },
     "execution_count": 35,
     "metadata": {},
     "output_type": "execute_result"
    }
   ],
   "source": [
    "X = train.sort_values('TransactionDT').drop(['isFraud', 'TransactionDT'], axis=1)\n",
    "y = train.sort_values('TransactionDT')['isFraud']\n",
    "\n",
    "X_test = test.drop(['TransactionDT'], axis=1)\n",
    "\n",
    "del train, test\n",
    "gc.collect()"
   ]
  },
  {
   "cell_type": "code",
   "execution_count": 36,
   "metadata": {},
   "outputs": [],
   "source": [
    "from sklearn.model_selection import KFold\n",
    "import lightgbm as lgb\n",
    "import warnings\n",
    "import itertools\n",
    "from scipy import interp\n",
    "from bayes_opt import BayesianOptimization\n",
    "from datetime import datetime\n",
    "from sklearn.model_selection import train_test_split\n",
    "from sklearn.metrics import precision_score, recall_score, confusion_matrix, accuracy_score, roc_auc_score, f1_score, roc_curve, auc,precision_recall_curve\n",
    "from sklearn.model_selection import GroupKFold\n",
    "\n",
    "warnings.filterwarnings(\"ignore\")"
   ]
  },
  {
   "cell_type": "code",
   "execution_count": 37,
   "metadata": {},
   "outputs": [],
   "source": [
    "params = {'num_leaves': 493,\n",
    "          'min_child_weight': 0.08022167610559643,\n",
    "          'feature_fraction': 0.5341568665265988,\n",
    "          'bagging_fraction': 0.32474760774990463,\n",
    "          'min_data_in_leaf': 33,\n",
    "          'objective': 'binary',\n",
    "          'max_depth': -1,\n",
    "          'learning_rate': 0.014951498272501501,\n",
    "          \"boosting_type\": \"gbdt\",\n",
    "          \"bagging_seed\": 11,\n",
    "          \"metric\": 'auc',\n",
    "          \"verbosity\": -1,\n",
    "          'reg_alpha': 0.7722447692966574,\n",
    "          'reg_lambda': 0.1987156815341724,\n",
    "          'random_state': 47,\n",
    "          'device' : 'cpu',\n",
    "         }"
   ]
  },
  {
   "cell_type": "code",
   "execution_count": 38,
   "metadata": {},
   "outputs": [
    {
     "data": {
      "text/plain": [
       "(590540, 400)"
      ]
     },
     "execution_count": 38,
     "metadata": {},
     "output_type": "execute_result"
    }
   ],
   "source": [
    "X.shape"
   ]
  },
  {
   "cell_type": "code",
   "execution_count": 39,
   "metadata": {},
   "outputs": [
    {
     "name": "stdout",
     "output_type": "stream",
     "text": [
      "Training until validation scores don't improve for 200 rounds.\n",
      "[200]\ttraining's auc: 0.990226\tvalid_1's auc: 0.904499\n",
      "[400]\ttraining's auc: 0.999064\tvalid_1's auc: 0.912602\n",
      "[600]\ttraining's auc: 0.999932\tvalid_1's auc: 0.914789\n",
      "[800]\ttraining's auc: 0.999996\tvalid_1's auc: 0.915389\n",
      "[1000]\ttraining's auc: 1\tvalid_1's auc: 0.915756\n",
      "[1200]\ttraining's auc: 1\tvalid_1's auc: 0.915894\n",
      "Early stopping, best iteration is:\n",
      "[1143]\ttraining's auc: 1\tvalid_1's auc: 0.916104\n",
      "Fold 1 | AUC: 0.9161037787827653\n",
      "Training until validation scores don't improve for 200 rounds.\n",
      "[200]\ttraining's auc: 0.989508\tvalid_1's auc: 0.933606\n",
      "[400]\ttraining's auc: 0.999158\tvalid_1's auc: 0.941348\n",
      "[600]\ttraining's auc: 0.999944\tvalid_1's auc: 0.943697\n",
      "[800]\ttraining's auc: 0.999997\tvalid_1's auc: 0.944592\n",
      "[1000]\ttraining's auc: 1\tvalid_1's auc: 0.944991\n",
      "[1200]\ttraining's auc: 1\tvalid_1's auc: 0.944825\n",
      "Early stopping, best iteration is:\n",
      "[1041]\ttraining's auc: 1\tvalid_1's auc: 0.945024\n",
      "Fold 2 | AUC: 0.9450241433202125\n",
      "Training until validation scores don't improve for 200 rounds.\n",
      "[200]\ttraining's auc: 0.988589\tvalid_1's auc: 0.931879\n",
      "[400]\ttraining's auc: 0.998998\tvalid_1's auc: 0.942229\n",
      "[600]\ttraining's auc: 0.999923\tvalid_1's auc: 0.944445\n",
      "[800]\ttraining's auc: 0.999995\tvalid_1's auc: 0.945424\n",
      "[1000]\ttraining's auc: 1\tvalid_1's auc: 0.945722\n",
      "[1200]\ttraining's auc: 1\tvalid_1's auc: 0.945808\n",
      "Early stopping, best iteration is:\n",
      "[1080]\ttraining's auc: 1\tvalid_1's auc: 0.945937\n",
      "Fold 3 | AUC: 0.9459374874734436\n",
      "Training until validation scores don't improve for 200 rounds.\n",
      "[200]\ttraining's auc: 0.988529\tvalid_1's auc: 0.931912\n",
      "[400]\ttraining's auc: 0.998933\tvalid_1's auc: 0.941218\n",
      "[600]\ttraining's auc: 0.99992\tvalid_1's auc: 0.942851\n",
      "[800]\ttraining's auc: 0.999995\tvalid_1's auc: 0.943802\n",
      "[1000]\ttraining's auc: 1\tvalid_1's auc: 0.943893\n",
      "Early stopping, best iteration is:\n",
      "[970]\ttraining's auc: 1\tvalid_1's auc: 0.943919\n",
      "Fold 4 | AUC: 0.9439186014574579\n",
      "Training until validation scores don't improve for 200 rounds.\n",
      "[200]\ttraining's auc: 0.988531\tvalid_1's auc: 0.944027\n",
      "[400]\ttraining's auc: 0.998821\tvalid_1's auc: 0.949507\n",
      "[600]\ttraining's auc: 0.999895\tvalid_1's auc: 0.951065\n",
      "[800]\ttraining's auc: 0.999992\tvalid_1's auc: 0.951394\n",
      "Early stopping, best iteration is:\n",
      "[781]\ttraining's auc: 0.999989\tvalid_1's auc: 0.95141\n",
      "Fold 5 | AUC: 0.9514097117864\n",
      "Training until validation scores don't improve for 200 rounds.\n",
      "[200]\ttraining's auc: 0.987794\tvalid_1's auc: 0.944761\n",
      "[400]\ttraining's auc: 0.998767\tvalid_1's auc: 0.955033\n",
      "[600]\ttraining's auc: 0.999897\tvalid_1's auc: 0.957369\n",
      "[800]\ttraining's auc: 0.999992\tvalid_1's auc: 0.958006\n",
      "[1000]\ttraining's auc: 0.999999\tvalid_1's auc: 0.958007\n",
      "Early stopping, best iteration is:\n",
      "[969]\ttraining's auc: 0.999999\tvalid_1's auc: 0.95816\n",
      "Fold 6 | AUC: 0.9581600575339556\n",
      "\n",
      "Mean AUC = 0.9434256300590391\n",
      "Out of folds AUC = 0.9414652534340472\n",
      "Wall time: 1h 18min 24s\n"
     ]
    }
   ],
   "source": [
    "%%time\n",
    "\n",
    "from sklearn.model_selection import GroupKFold\n",
    "\n",
    "NFOLDS = 6\n",
    "folds = GroupKFold(n_splits=NFOLDS)\n",
    "split_groups = X['DT_M']\n",
    "\n",
    "columns = X.columns\n",
    "splits = folds.split(X, y, groups=split_groups)\n",
    "y_preds = np.zeros(X_test.shape[0])\n",
    "y_oof = np.zeros(X.shape[0])\n",
    "score = 0\n",
    "\n",
    "feature_importances = pd.DataFrame()\n",
    "feature_importances['feature'] = columns\n",
    "  \n",
    "for fold_n, (train_index, valid_index) in enumerate(splits):\n",
    "    X_train, X_valid = X[columns].iloc[train_index], X[columns].iloc[valid_index]\n",
    "    y_train, y_valid = y.iloc[train_index], y.iloc[valid_index]\n",
    "    \n",
    "    \n",
    "    dtrain = lgb.Dataset(X_train, label=y_train)\n",
    "    dvalid = lgb.Dataset(X_valid, label=y_valid)\n",
    "\n",
    "    clf = lgb.train(params, dtrain, 10000, valid_sets = [dtrain, dvalid], verbose_eval=200, early_stopping_rounds=200)\n",
    "    \n",
    "    feature_importances[f'fold_{fold_n + 1}'] = clf.feature_importance()\n",
    "    \n",
    "    y_pred_valid = clf.predict(X_valid)\n",
    "    y_oof[valid_index] = y_pred_valid\n",
    "    print(f\"Fold {fold_n + 1} | AUC: {roc_auc_score(y_valid, y_pred_valid)}\")\n",
    "    \n",
    "    score += roc_auc_score(y_valid, y_pred_valid) / NFOLDS\n",
    "    y_preds += clf.predict(X_test) / NFOLDS\n",
    "    \n",
    "    del X_train, X_valid, y_train, y_valid\n",
    "    gc.collect()\n",
    "    \n",
    "print(f\"\\nMean AUC = {score}\")\n",
    "print(f\"Out of folds AUC = {roc_auc_score(y, y_oof)}\")"
   ]
  },
  {
   "cell_type": "code",
   "execution_count": 40,
   "metadata": {},
   "outputs": [],
   "source": [
    "sub['isFraud'] = y_preds\n",
    "sub.to_csv(\"results/lgb_fi400.csv\", index=False)"
   ]
  },
  {
   "cell_type": "code",
   "execution_count": 41,
   "metadata": {},
   "outputs": [
    {
     "data": {
      "image/png": "[encoded data removed]",
      "text/plain": [
       "<Figure size 1152x1152 with 1 Axes>"
      ]
     },
     "metadata": {
      "needs_background": "light"
     },
     "output_type": "display_data"
    }
   ],
   "source": [
    "feature_importances['average'] = feature_importances[[f'fold_{fold_n + 1}' for fold_n in range(folds.n_splits)]].mean(axis=1)\n",
    "feature_importances.to_csv('feature_importances400.csv')\n",
    "\n",
    "plt.figure(figsize=(16, 16))\n",
    "sns.barplot(data=feature_importances.sort_values(by='average', ascending=False).head(50), x='average', y='feature');\n",
    "plt.title('50 TOP feature importance over {} folds average'.format(folds.n_splits));"
   ]
  },
  {
   "cell_type": "code",
   "execution_count": null,
   "metadata": {},
   "outputs": [],
   "source": []
  }
 ],
 "metadata": {
  "kernelspec": {
   "display_name": "Python 3",
   "language": "python",
   "name": "python3"
  },
  "language_info": {
   "codemirror_mode": {
    "name": "ipython",
    "version": 3
   },
   "file_extension": ".py",
   "mimetype": "text/x-python",
   "name": "python",
   "nbconvert_exporter": "python",
   "pygments_lexer": "ipython3",
   "version": "3.7.1"
  }
 },
 "nbformat": 4,
 "nbformat_minor": 2
}
